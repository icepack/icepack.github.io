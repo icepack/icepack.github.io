{
  "cells": [
    {
      "cell_type": "code",
      "execution_count": 1,
      "metadata": {},
      "outputs": [],
      "source": [
        "import tqdm\n",
        "import matplotlib.pyplot as plt\n",
        "import firedrake\n",
        "import icepack, icepack.plot"
      ]
    },
    {
      "cell_type": "markdown",
      "metadata": {},
      "source": [
        "# Ice streams, once more\n",
        "\n",
        "In this demo, we'll revisit the ice stream demo but with a different model.\n",
        "The *hybrid* flow model that we'll use here can resolve both *plug flow* and *shear flow*.\n",
        "The velocity field is a plug flow if the velocity is roughly constanty with depth, whereas in shear flow the speed at the ice base is much smaller than at the ice surface.\n",
        "Deep in the interior of an ice sheet, most flow is by vertical shear, whereas the fast ice streams near the margins are roughly in plug flow.\n",
        "The shallow stream equations, and the `IceStream` class we used to solve them in the third demo, assume plug flow and thus are limited in the regions where they can be applied without substantial error.\n",
        "The `HybridModel` class we'll use here has no such limitation."
      ]
    },
    {
      "cell_type": "markdown",
      "metadata": {},
      "source": [
        "### Geometry and input data\n",
        "\n",
        "We'll use the same footprint geometry as the ice stream demo, but since we're working with a 3D flow model, we need a 3D mesh to go along with it.\n",
        "The model we will use is posed entirely in *terrain-following coordinates*, where the $z$-axis is remapped into the interval $[0, 1]$.\n",
        "This new coordinate is defined as\n",
        "\n",
        "$$\\zeta = \\frac{z - b}{h}$$\n",
        "\n",
        "and the inverse transformation is $z = h\\zeta + b$.\n",
        "In the absence of terminus advance or iceberg calving, the transformation to this coordinate system makes the logical geometry of problem completely steady even though the surface can be rising or falling.\n",
        "\n",
        "Firedrake includes built-in support generating *extruded meshes* out of a 2D footprint mesh.\n",
        "Rather than use a large number of vertical layers to achieve high resolution of functions defined on this mesh, we'll use only one layer but high-degree basis functions."
      ]
    },
    {
      "cell_type": "code",
      "execution_count": 2,
      "metadata": {},
      "outputs": [],
      "source": [
        "Lx, Ly = 50e3, 12e3\n",
        "nx, ny = 48, 32\n",
        "mesh2d = firedrake.RectangleMesh(nx, ny, Lx, Ly)\n",
        "mesh = firedrake.ExtrudedMesh(mesh2d, layers=1)"
      ]
    },
    {
      "cell_type": "markdown",
      "metadata": {},
      "source": [
        "To define a function space on an extruded mesh, the only change over 2D function spaces is the addition of the `vfamily` and `vdegree` arguments.\n",
        "These describe respectively the finite element type and polynomial degree in the vertical direction.\n",
        "The surface and bed elevation only have to be defined on the footprint mesh, so we'll use vertical basis functions that are constant."
      ]
    },
    {
      "cell_type": "code",
      "execution_count": 3,
      "metadata": {},
      "outputs": [],
      "source": [
        "Q = firedrake.FunctionSpace(\n",
        "    mesh, family='CG', degree=2,\n",
        "    vfamily='DG', vdegree=0\n",
        ")"
      ]
    },
    {
      "cell_type": "markdown",
      "metadata": {},
      "source": [
        "The function space for the velocities is more interesting.\n",
        "For starters, we have to explicitly specify the value dimension, since we're workin with a 2D vector field defined on a 3D mesh.\n",
        "Rather than use the usual continuous or discontinuous Galerkin finite element bases in the vertical, we'll use *Gauss-Legendre* elements.\n",
        "This finite element uses [Legendre polynomials](https://en.wikipedia.org/wiki/Legendre_polynomials) instead of the Lagrange interpolating polynomials.\n",
        "The Legendre polynomials are advantageous because they are mutually orthogonal."
      ]
    },
    {
      "cell_type": "code",
      "execution_count": 4,
      "metadata": {},
      "outputs": [],
      "source": [
        "V = firedrake.VectorFunctionSpace(\n",
        "    mesh, dim=2, family='CG', degree=2,\n",
        "    vfamily='GL', vdegree=1\n",
        ")"
      ]
    },
    {
      "cell_type": "markdown",
      "metadata": {},
      "source": [
        "Creating the input data is mostly the same as before.\n",
        "The `SpatialCoordinate` function now returns an additional symbol representing the terrain-following coordinate $\\zeta$."
      ]
    },
    {
      "cell_type": "code",
      "execution_count": 5,
      "metadata": {},
      "outputs": [],
      "source": [
        "from icepack.constants import (\n",
        "    ice_density as ρ_I,\n",
        "    water_density as ρ_W,\n",
        "    weertman_sliding_law as m,\n",
        "    gravity as g\n",
        ")\n",
        "\n",
        "x, y, ζ = firedrake.SpatialCoordinate(mesh)"
      ]
    },
    {
      "cell_type": "code",
      "execution_count": 6,
      "metadata": {},
      "outputs": [],
      "source": [
        "b_in, b_out = 200, -400\n",
        "b = firedrake.interpolate(b_in - (b_in - b_out) * x / Lx, Q)\n",
        "\n",
        "s_in, s_out = 850, 50\n",
        "s0 = firedrake.interpolate(s_in - (s_in - s_out) * x / Lx, Q)\n",
        "\n",
        "h0 = firedrake.interpolate(s0 - b, Q)"
      ]
    },
    {
      "cell_type": "code",
      "execution_count": 7,
      "metadata": {},
      "outputs": [],
      "source": [
        "h_in = s_in - b_in\n",
        "δs_δx = (s_out - s_in) / Lx\n",
        "τ_D = -ρ_I * g * h_in * δs_δx"
      ]
    },
    {
      "cell_type": "code",
      "execution_count": 8,
      "metadata": {},
      "outputs": [],
      "source": [
        "u_in, u_out = 20, 2400\n",
        "velocity_x = u_in + (u_out - u_in) * (x/Lx)**2\n",
        "u0 = firedrake.interpolate(firedrake.as_vector((velocity_x, 0)), V)"
      ]
    },
    {
      "cell_type": "code",
      "execution_count": 9,
      "metadata": {},
      "outputs": [],
      "source": [
        "T = firedrake.Constant(255.0)\n",
        "A = icepack.rate_factor(T)"
      ]
    },
    {
      "cell_type": "code",
      "execution_count": 10,
      "metadata": {},
      "outputs": [],
      "source": [
        "C = (0.95 - 0.05 * x/Lx) * τ_D / u_in**(1/m)\n",
        "\n",
        "p_W = ρ_W * g * firedrake.max_value(0, h0 - s0)\n",
        "p_I = ρ_I * g * h0\n",
        "ϕ = 1 - p_W / p_I"
      ]
    },
    {
      "cell_type": "markdown",
      "metadata": {},
      "source": [
        "The bed friction can be re-parameterized for the hybrid model in the same way as for the ice stream model."
      ]
    },
    {
      "cell_type": "code",
      "execution_count": 11,
      "metadata": {},
      "outputs": [],
      "source": [
        "import icepack.models.hybrid\n",
        "def friction(**kwargs):\n",
        "    u = kwargs['velocity']\n",
        "    h = kwargs['thickness']\n",
        "    s = kwargs['surface']\n",
        "    C = kwargs['friction']\n",
        "    \n",
        "    p_W = ρ_W * g * firedrake.max_value(0, h - s)\n",
        "    p_I = ρ_I * g * h\n",
        "    ϕ = 1 - p_W / p_I\n",
        "    return icepack.models.hybrid.bed_friction(\n",
        "        velocity=u, \n",
        "        friction=C * ϕ\n",
        "    )"
      ]
    },
    {
      "cell_type": "code",
      "execution_count": 12,
      "metadata": {},
      "outputs": [],
      "source": [
        "model = icepack.models.HybridModel(friction=friction)\n",
        "opts = {'dirichlet_ids': [1], 'side_wall_ids': [3, 4]}\n",
        "solver = icepack.solvers.FlowSolver(model, **opts)\n",
        "\n",
        "u0 = solver.diagnostic_solve(\n",
        "    velocity=u0,\n",
        "    thickness=h0,\n",
        "    surface=s0,\n",
        "    fluidity=A,\n",
        "    friction=C\n",
        ")"
      ]
    },
    {
      "cell_type": "markdown",
      "metadata": {},
      "source": [
        "The `tricontourf` function in icepack will detect whether you're trying to plot a 2D or a 3D field.\n",
        "Plotting 3D fields is expensive, so as a default, this function will depth-average the input field and make a contour plot of the resulting 2D field."
      ]
    },
    {
      "cell_type": "code",
      "execution_count": 13,
      "metadata": {},
      "outputs": [
        {
          "data": {
            "image/png": "[encoded data removed]",
            "text/plain": [
              "<Figure size 432x288 with 2 Axes>"
            ]
          },
          "metadata": {
            "needs_background": "light"
          },
          "output_type": "display_data"
        }
      ],
      "source": [
        "fig, axes = icepack.plot.subplots()\n",
        "contours = icepack.plot.tricontourf(u0, 25, axes=axes)\n",
        "fig.colorbar(contours, ax=axes, fraction=0.012, pad=0.04)\n",
        "plt.show(fig)"
      ]
    },
    {
      "cell_type": "markdown",
      "metadata": {},
      "source": [
        "### Modeling\n",
        "\n",
        "The code to run the hybrid model is identical to that of the ice stream demo."
      ]
    },
    {
      "cell_type": "code",
      "execution_count": 14,
      "metadata": {},
      "outputs": [
        {
          "name": "stderr",
          "output_type": "stream",
          "text": [
            "100%|██████████| 500/500 [25:44<00:00,  3.09s/it]\n"
          ]
        }
      ],
      "source": [
        "num_years = 250\n",
        "timesteps_per_year = 2\n",
        "\n",
        "δt = 1.0/timesteps_per_year\n",
        "num_timesteps = num_years * timesteps_per_year\n",
        "\n",
        "a = 1.7 - 2.7 * x / Lx\n",
        "h = h0.copy(deepcopy=True)\n",
        "u = u0.copy(deepcopy=True)\n",
        "\n",
        "for step in tqdm.trange(num_timesteps):\n",
        "    h = solver.prognostic_solve(\n",
        "        δt,\n",
        "        thickness=h,\n",
        "        velocity=u,\n",
        "        accumulation=a,\n",
        "        thickness_inflow=h0\n",
        "    )\n",
        "    s = icepack.compute_surface(thickness=h, bed=b)\n",
        "    \n",
        "    u = solver.diagnostic_solve(\n",
        "        velocity=u,\n",
        "        thickness=h,\n",
        "        surface=s,\n",
        "        fluidity=A,\n",
        "        friction=C\n",
        "    )"
      ]
    },
    {
      "cell_type": "markdown",
      "metadata": {},
      "source": [
        "As a sanity check, we can plot the thickness, velocity, and mass balance.\n",
        "These give very similar results in the eyeball norm to our previous demo assuming only plug flow."
      ]
    },
    {
      "cell_type": "code",
      "execution_count": 15,
      "metadata": {},
      "outputs": [
        {
          "data": {
            "image/png": "[encoded data removed]",
            "text/plain": [
              "<Figure size 432x288 with 2 Axes>"
            ]
          },
          "metadata": {
            "needs_background": "light"
          },
          "output_type": "display_data"
        }
      ],
      "source": [
        "fig, axes = icepack.plot.subplots()\n",
        "contours =  icepack.plot.tricontourf(h, 25, axes=axes)\n",
        "fig.colorbar(contours, label='meters', fraction=0.012, pad=0.04)\n",
        "plt.show(fig)"
      ]
    },
    {
      "cell_type": "code",
      "execution_count": 16,
      "metadata": {},
      "outputs": [
        {
          "data": {
            "image/png": "[encoded data removed]",
            "text/plain": [
              "<Figure size 432x288 with 2 Axes>"
            ]
          },
          "metadata": {
            "needs_background": "light"
          },
          "output_type": "display_data"
        }
      ],
      "source": [
        "fig, axes = icepack.plot.subplots()\n",
        "contours = icepack.plot.tricontourf(u, 25, axes=axes)\n",
        "fig.colorbar(contours, label='meters/year', fraction=0.012, pad=0.04)\n",
        "plt.show(fig)"
      ]
    },
    {
      "cell_type": "code",
      "execution_count": 17,
      "metadata": {},
      "outputs": [
        {
          "data": {
            "image/png": "[encoded data removed]",
            "text/plain": [
              "<Figure size 432x288 with 2 Axes>"
            ]
          },
          "metadata": {
            "needs_background": "light"
          },
          "output_type": "display_data"
        }
      ],
      "source": [
        "def div_2(v):\n",
        "    return v[0].dx(0) + v[1].dx(1)\n",
        "\n",
        "f = firedrake.project(a - div_2(h * u), Q)\n",
        "fig, axes = icepack.plot.subplots()\n",
        "contours = icepack.plot.tricontourf(f, 25, cmap='RdBu', axes=axes)\n",
        "fig.colorbar(contours, label='meters/year', fraction=0.012, pad=0.04)\n",
        "plt.show(fig)"
      ]
    },
    {
      "cell_type": "code",
      "execution_count": 18,
      "metadata": {},
      "outputs": [
        {
          "data": {
            "image/png": "[encoded data removed]",
            "text/plain": [
              "<Figure size 432x288 with 1 Axes>"
            ]
          },
          "metadata": {
            "needs_background": "light"
          },
          "output_type": "display_data"
        }
      ],
      "source": [
        "import numpy as np\n",
        "xs = np.array([(Lx * k / nx, 0, 0.5) for k in range(nx + 1)])\n",
        "\n",
        "ss = np.array(s.at(xs, tolerance=1e-10))\n",
        "hs = np.array(h.at(xs, tolerance=1e-10))\n",
        "bs = np.array(b.at(xs, tolerance=1e-10))\n",
        "\n",
        "fig, axes = plt.subplots()\n",
        "axes.plot(xs[:, 0] / 1e3, bs, color='black')\n",
        "axes.plot(xs[:, 0] / 1e3, ss - hs, color='blue')\n",
        "axes.plot(xs[:, 0] / 1e3, ss, color='blue')\n",
        "axes.set_xlabel('distance along centerline (km)')\n",
        "axes.set_ylabel('elevation (m)')\n",
        "plt.show(fig)"
      ]
    },
    {
      "cell_type": "code",
      "execution_count": 19,
      "metadata": {},
      "outputs": [
        {
          "data": {
            "image/png": "[encoded data removed]",
            "text/plain": [
              "<Figure size 432x288 with 1 Axes>"
            ]
          },
          "metadata": {
            "needs_background": "light"
          },
          "output_type": "display_data"
        }
      ],
      "source": [
        "fig, axes = plt.subplots()\n",
        "axes.plot(xs[:, 0] / 1e3, hs)\n",
        "axes.set_xlabel('distance along centerline (km)')\n",
        "axes.set_ylabel('thickness (m)')\n",
        "plt.show(fig)"
      ]
    },
    {
      "cell_type": "markdown",
      "metadata": {},
      "source": [
        "### Resolving shear flow\n",
        "\n",
        "Unlike the ice stream model, however, the hybrid model can resolve vertical shear flow.\n",
        "To quantity the degree to which the glacier is in plug flow vs shear flow, we can calculate a weighted depth average of the velocity.\n",
        "In this case, we'll use the function\n",
        "\n",
        "$$q(\\zeta) = \\sqrt 3 \\cdot (2\\zeta - 1)$$\n",
        "\n",
        "as our weight function.\n",
        "This weight is odd when reflected over the axis $\\zeta = 1/2$, so it's orthogonal to all plug flow fields.\n",
        "The extra factor of $\\sqrt 3$ is there to normalize the weight function so that\n",
        "\n",
        "$$\\int_0^1q(\\zeta)^2d\\zeta = 1.$$\n",
        "\n",
        "This weight is actually just the degree-1 Legendre polynomial, normalized and shifted over to the interval $[0, 1]$.\n",
        "\n",
        "The function `depth_average` will evaluate a weighted depth average of a 3D field defined on an extruded mesh.\n",
        "The weight can be any expression; in our case we're using a polynomial in the symbol $\\zeta$, but we could also have used another finite element function."
      ]
    },
    {
      "cell_type": "code",
      "execution_count": 20,
      "metadata": {},
      "outputs": [],
      "source": [
        "u_shear = icepack.depth_average(u, weight=np.sqrt(3) * (2 * ζ - 1))"
      ]
    },
    {
      "cell_type": "markdown",
      "metadata": {},
      "source": [
        "The resulting field is defined on the 2D footprint mesh as opposed to the 3D extruded mesh."
      ]
    },
    {
      "cell_type": "code",
      "execution_count": 21,
      "metadata": {},
      "outputs": [
        {
          "data": {
            "text/plain": [
              "True"
            ]
          },
          "execution_count": 21,
          "metadata": {},
          "output_type": "execute_result"
        }
      ],
      "source": [
        "u_shear.ufl_domain() is mesh2d"
      ]
    },
    {
      "cell_type": "markdown",
      "metadata": {},
      "source": [
        "To wrap things up, let's plot the shear flow mode and do a bit of postprocessing."
      ]
    },
    {
      "cell_type": "code",
      "execution_count": 22,
      "metadata": {},
      "outputs": [
        {
          "data": {
            "image/png": "[encoded data removed]",
            "text/plain": [
              "<Figure size 432x288 with 2 Axes>"
            ]
          },
          "metadata": {
            "needs_background": "light"
          },
          "output_type": "display_data"
        }
      ],
      "source": [
        "fig, axes = icepack.plot.subplots()\n",
        "contours = icepack.plot.tricontourf(u_shear, 25, axes=axes)\n",
        "fig.colorbar(contours, label='meters/year', fraction=0.012, pad=0.04)\n",
        "plt.show(fig)"
      ]
    },
    {
      "cell_type": "markdown",
      "metadata": {},
      "source": [
        "The region where the velocity has a significant shear flow component is confined to the left half of the domain, where the ice is grounded.\n",
        "There is virtually no shear flow at all in the right half of the domain where the ice is floating, just as we expect.\n",
        "To be more exact, we can also calculate the unweighted depth average of the velocity and take the ratio of the two components."
      ]
    },
    {
      "cell_type": "code",
      "execution_count": 23,
      "metadata": {},
      "outputs": [],
      "source": [
        "from firedrake import inner, sqrt\n",
        "u_avg = icepack.depth_average(u)\n",
        "\n",
        "Q2D = firedrake.FunctionSpace(mesh2d, family='CG', degree=2)\n",
        "U_shear = sqrt(inner(u_shear, u_shear))\n",
        "U_avg = sqrt(inner(u_avg, u_avg))\n",
        "ratio = firedrake.interpolate(U_shear / U_avg, Q2D)"
      ]
    },
    {
      "cell_type": "code",
      "execution_count": 24,
      "metadata": {},
      "outputs": [
        {
          "data": {
            "image/png": "[encoded data removed]",
            "text/plain": [
              "<Figure size 432x288 with 2 Axes>"
            ]
          },
          "metadata": {
            "needs_background": "light"
          },
          "output_type": "display_data"
        }
      ],
      "source": [
        "fig, axes = icepack.plot.subplots()\n",
        "contours = icepack.plot.tricontourf(ratio, 25, axes=axes)\n",
        "fig.colorbar(contours, fraction=0.012, pad=0.04)\n",
        "plt.show(fig)"
      ]
    },
    {
      "cell_type": "markdown",
      "metadata": {},
      "source": [
        "The shear/plug ratio tops out at around 6\\%.\n",
        "For comparison, when the vertical velocity profile follows the shallow ice approximation, the horizontal velocity is a quartic polynomial in the vertical:\n",
        "\n",
        "$$u \\propto 1 - (1 - \\zeta)^4.$$\n",
        "\n",
        "In this case, the shear/plug ratio can be calculated by hand to be $\\frac{1}{2\\sqrt3} \\approx 29\\%$.\n",
        "We could arrive at a different shear ratio in steady state by using a larger value for the basal friction coefficient."
      ]
    },
    {
      "cell_type": "markdown",
      "metadata": {},
      "source": [
        "### Conclusion\n",
        "\n",
        "In this demo, we showed how to use a hybrid model that can capture both plug and shear flow.\n",
        "The biggest differences between this model and the ice stream model we showed earlier are that you need to create an extruded mesh and that you need to specify the element family and degree in the vertical dimension.\n",
        "Using spectral methods in the vertical dimension makes it possible to capture much of the variation along this axis without resorting to a large number of layers, as might be necessary if we were using a more \"traditional\" discretization.\n",
        "There are also a few extra steps when you want to analyze or plot 3D fields; depth averaging with a good choice of vertical weight function can get you pretty far.\n",
        "In principle, this hybrid model will work well on much larger spatial scales such as an entire glacier drainage basin or even a whole ice sheet."
      ]
    },
    {
      "cell_type": "markdown",
      "metadata": {},
      "source": [
        "### Epilogue: bootstrapping\n",
        "\n",
        "When we chose a function space to represent the velocity field, we used a vertical degree of 1, which can resolve linear vertical variations.\n",
        "Under the shallow ice approximation, the ice velocity is a quartic polynomial in $\\zeta$, so using a degree of at least 4 might have been a more sensible choice.\n",
        "\n",
        "The degree-1 solution can still be useful as a cheaper initial guess for the degree-4 solution.\n",
        "We rarely have a good initial guess for what the steady-state velocity will be, and computing it from a cold start as we did for the degree-1 solution can be more expensive the more vertical modes we use.\n",
        "Instead, we can run the degree-1 velocity and thickness to steady state and use this to initialize a (hopefully cheaper) degree-4 solution."
      ]
    },
    {
      "cell_type": "code",
      "execution_count": 25,
      "metadata": {},
      "outputs": [],
      "source": [
        "V_1 = firedrake.VectorFunctionSpace(\n",
        "    mesh, dim=2, family='CG', degree=2,\n",
        "    vfamily='GL', vdegree=1\n",
        ")\n",
        "u_1 = firedrake.interpolate(u, V_1)\n",
        "\n",
        "V_4 = firedrake.VectorFunctionSpace(\n",
        "    mesh, dim=2, family='CG', degree=2,\n",
        "    vfamily='GL', vdegree=4\n",
        ")\n",
        "u_4 = firedrake.interpolate(u, V_4)\n",
        "\n",
        "solver4 = icepack.solvers.FlowSolver(model, **opts)\n",
        "u_4 = solver4.diagnostic_solve(\n",
        "    velocity=u_4,\n",
        "    thickness=h,\n",
        "    surface=s,\n",
        "    fluidity=A,\n",
        "    friction=C\n",
        ")"
      ]
    },
    {
      "cell_type": "markdown",
      "metadata": {},
      "source": [
        "Observe again how we had to create a new solver, which we called `solver4` here, to calculate the higher-degree velocity field.\n",
        "The model object is the same because it's the same physics.\n",
        "The solver changes because the solution we're looking for has more degrees of freedom, and thus the nonlinear system characterizing this solution is larger.\n",
        "\n",
        "To see how much of a change we get with the extra vertical modes, we'll calculate the relative error in the 2-norm."
      ]
    },
    {
      "cell_type": "code",
      "execution_count": 26,
      "metadata": {},
      "outputs": [
        {
          "name": "stdout",
          "output_type": "stream",
          "text": [
            "0.03200493041538006\n"
          ]
        }
      ],
      "source": [
        "δu = firedrake.interpolate(u_4 - u_1, V_4)\n",
        "print(firedrake.norm(δu) / firedrake.norm(u_4))"
      ]
    },
    {
      "cell_type": "markdown",
      "metadata": {},
      "source": [
        "A mismatch of only 3\\% is not bad at all!\n",
        "However, if we used a synthetic glacier that were closer to the idealized shallow ice approximation then the error would be larger.\n",
        "The accuracy of the degree-1 solution in this particular case should not be extrapolated to all scenarios.\n",
        "\n",
        "When we initialize the glacier from a rough initial guess as we did for the degree-1, we have to expect that it will take the entire residence time for any initial transients to propagate out, which in our case is in excess of 100 years.\n",
        "If we initialize a degree-4 solution from the steady state degree-1 solution we may be able to get away with a much shorter spin-up period."
      ]
    }
  ],
  "metadata": {
    "kernelspec": {
      "display_name": "firedrake",
      "language": "python",
      "name": "firedrake"
    },
    "language_info": {
      "codemirror_mode": {
        "name": "ipython",
        "version": 3
      },
      "file_extension": ".py",
      "mimetype": "text/x-python",
      "name": "python",
      "nbconvert_exporter": "python",
      "pygments_lexer": "ipython3",
      "version": "3.7.4"
    },
    "nikola": {
      "category": "",
      "date": "2020-11-10 17:00:00 UTC-08:00",
      "description": "",
      "link": "",
      "slug": "06-hybrid-ice-stream",
      "tags": "",
      "title": "Ice streams, once more",
      "type": "text",
      "hidetitle": "True"
    }
  },
  "nbformat": 4,
  "nbformat_minor": 2
}
