{
  "cells": [
    {
      "cell_type": "markdown",
      "metadata": {},
      "source": [
        "# Time-dependent data assimilation\n",
        "\n",
        "**Warning:** the code demonstrated in this notebook is experimental.\n",
        "Use it at your own risk.\n",
        "We had to tweak solver choices and settings in order to make it work.\n",
        "If you try to build off of it and something breaks, please [get in touch](https://icepack.github.io/contact/).\n",
        "\n",
        "This notebook will demonstrate some more of the capabilities that icepack has for assimilating observational data.\n",
        "In a previous demo, we showed how to estimate a parameter in an ice model (the fluidity) from remote sensing observations.\n",
        "To do so, we had to specify:\n",
        "\n",
        "1. the loss functional, or how we measure the agreement of our computed state with observations\n",
        "2. the regularization functional, or how unusual or complex our guess for these parameters were, and\n",
        "3. the simulation, or what the physics is that relates the parameters and the observable fields.\n",
        "\n",
        "In the previous demo, the governing physics was the momentum conservation equation of ice flow, which is time-independent.\n",
        "Here we'll look at how to use more involved simulations, including both mass and momentum conservation, that relate the unknown and the observable fields.\n",
        "The resulting simulation now depends on time.\n",
        "This is possible thanks to the adjoint capabilities in Firedrake and it looks pretty similar to the simpler time-dependent case.\n",
        "\n",
        "Rather than try to estimate an unobservable parameter as we did in the previous demo, we'll focus here on estimating the value of an initial condition from measurements of the glacier at a later time.\n",
        "In principle, you can do joint estimation of both state and parameters at once; as far as the code is concerned, there's no distinction between the two.\n",
        "We've stuck to a pure state estimation problem here just to keep things simple."
      ]
    },
    {
      "cell_type": "markdown",
      "metadata": {},
      "source": [
        "### Setup\n",
        "\n",
        "We'll start from the MISMIP+ geometry and steady state from the previous notebooks.\n",
        "Computing the steady state of the MISMIP+ test case is expensive.\n",
        "Rather than do a cold start every time, we'll instead load up a previously-computed steady state from checkpoint files if they're available.\n",
        "(See the [how-to guide](https://icepack.github.io/notebooks/how-to/02-checkpointing/) on checkpointing.)\n",
        "If not, we'll do an initial spin-up for 3600 years using a cheaper degree-1 finite element basis and then a final spin-up using a degree-2 basis."
      ]
    },
    {
      "cell_type": "code",
      "execution_count": 1,
      "metadata": {
        "execution": {
          "iopub.execute_input": "2023-11-09T18:11:14.223089Z",
          "iopub.status.busy": "2023-11-09T18:11:14.220942Z",
          "iopub.status.idle": "2023-11-09T18:11:16.310154Z",
          "shell.execute_reply": "2023-11-09T18:11:16.309367Z"
        }
      },
      "outputs": [],
      "source": [
        "import firedrake\n",
        "from firedrake import (\n",
        "    exp,\n",
        "    sqrt,\n",
        "    inner,\n",
        "    as_vector,\n",
        "    grad,\n",
        "    max_value,\n",
        "    Constant,\n",
        "    interpolate,\n",
        "    dx,\n",
        ")\n",
        "\n",
        "Lx, Ly = 640e3, 80e3\n",
        "ny = 20\n",
        "nx = int(Lx / Ly) * ny\n",
        "area = Constant(Lx * Ly)\n",
        "\n",
        "mesh = firedrake.RectangleMesh(nx, ny, Lx, Ly, name=\"mesh\")\n",
        "\n",
        "Q2 = firedrake.FunctionSpace(mesh, \"CG\", 2)\n",
        "V2 = firedrake.VectorFunctionSpace(mesh, \"CG\", 2)"
      ]
    },
    {
      "cell_type": "code",
      "execution_count": 2,
      "metadata": {
        "execution": {
          "iopub.execute_input": "2023-11-09T18:11:16.315453Z",
          "iopub.status.busy": "2023-11-09T18:11:16.314089Z",
          "iopub.status.idle": "2023-11-09T18:11:16.322992Z",
          "shell.execute_reply": "2023-11-09T18:11:16.322108Z"
        }
      },
      "outputs": [],
      "source": [
        "def mismip_bed(mesh):\n",
        "    x, y = firedrake.SpatialCoordinate(mesh)\n",
        "\n",
        "    x_c = Constant(300e3)\n",
        "    X = x / x_c\n",
        "\n",
        "    B_0 = Constant(-150)\n",
        "    B_2 = Constant(-728.8)\n",
        "    B_4 = Constant(343.91)\n",
        "    B_6 = Constant(-50.57)\n",
        "    B_x = B_0 + B_2 * X ** 2 + B_4 * X ** 4 + B_6 * X ** 6\n",
        "\n",
        "    f_c = Constant(4e3)\n",
        "    d_c = Constant(500)\n",
        "    w_c = Constant(24e3)\n",
        "\n",
        "    B_y = d_c * (\n",
        "        1 / (1 + exp(-2 * (y - Ly / 2 - w_c) / f_c)) +\n",
        "        1 / (1 + exp(+2 * (y - Ly / 2 + w_c) / f_c))\n",
        "    )\n",
        "\n",
        "    z_deep = Constant(-720)\n",
        "\n",
        "    return max_value(B_x + B_y, z_deep)"
      ]
    },
    {
      "cell_type": "code",
      "execution_count": 3,
      "metadata": {
        "execution": {
          "iopub.execute_input": "2023-11-09T18:11:16.327496Z",
          "iopub.status.busy": "2023-11-09T18:11:16.326299Z",
          "iopub.status.idle": "2023-11-09T18:11:16.331854Z",
          "shell.execute_reply": "2023-11-09T18:11:16.331195Z"
        }
      },
      "outputs": [],
      "source": [
        "A = Constant(20)\n",
        "C = Constant(1e-2)"
      ]
    },
    {
      "cell_type": "markdown",
      "metadata": {},
      "source": [
        "We'll use the Schoof-type friction law from before rather than the Weertman sliding law."
      ]
    },
    {
      "cell_type": "code",
      "execution_count": 4,
      "metadata": {
        "execution": {
          "iopub.execute_input": "2023-11-09T18:11:16.336374Z",
          "iopub.status.busy": "2023-11-09T18:11:16.335145Z",
          "iopub.status.idle": "2023-11-09T18:11:16.923238Z",
          "shell.execute_reply": "2023-11-09T18:11:16.922463Z"
        }
      },
      "outputs": [],
      "source": [
        "from icepack.constants import (\n",
        "    ice_density as ρ_I,\n",
        "    water_density as ρ_W,\n",
        "    gravity as g,\n",
        "    weertman_sliding_law as m,\n",
        ")\n",
        "\n",
        "\n",
        "def friction(**kwargs):\n",
        "    variables = (\"velocity\", \"thickness\", \"surface\", \"friction\")\n",
        "    u, h, s, C = map(kwargs.get, variables)\n",
        "\n",
        "    p_W = ρ_W * g * max_value(0, -(s - h))\n",
        "    p_I = ρ_I * g * h\n",
        "    N = max_value(0, p_I - p_W)\n",
        "    τ_c = N / 2\n",
        "\n",
        "    u_c = (τ_c / C) ** m\n",
        "    u_b = sqrt(inner(u, u))\n",
        "\n",
        "    return τ_c * (\n",
        "        (u_c**(1 / m + 1) + u_b**(1 / m + 1))**(m / (m + 1)) - u_c\n",
        "    )"
      ]
    },
    {
      "cell_type": "code",
      "execution_count": 5,
      "metadata": {
        "execution": {
          "iopub.execute_input": "2023-11-09T18:11:16.927514Z",
          "iopub.status.busy": "2023-11-09T18:11:16.926776Z",
          "iopub.status.idle": "2023-11-09T18:11:16.931882Z",
          "shell.execute_reply": "2023-11-09T18:11:16.930759Z"
        }
      },
      "outputs": [],
      "source": [
        "a_0 = Constant(0.3)"
      ]
    },
    {
      "cell_type": "code",
      "execution_count": 6,
      "metadata": {
        "execution": {
          "iopub.execute_input": "2023-11-09T18:11:16.937817Z",
          "iopub.status.busy": "2023-11-09T18:11:16.936569Z",
          "iopub.status.idle": "2023-11-09T18:11:16.945123Z",
          "shell.execute_reply": "2023-11-09T18:11:16.944319Z"
        }
      },
      "outputs": [],
      "source": [
        "import icepack\n",
        "model = icepack.models.IceStream(friction=friction)"
      ]
    },
    {
      "cell_type": "code",
      "execution_count": 7,
      "metadata": {
        "execution": {
          "iopub.execute_input": "2023-11-09T18:11:16.950438Z",
          "iopub.status.busy": "2023-11-09T18:11:16.949178Z",
          "iopub.status.idle": "2023-11-09T18:11:16.957356Z",
          "shell.execute_reply": "2023-11-09T18:11:16.956606Z"
        }
      },
      "outputs": [],
      "source": [
        "import tqdm\n",
        "\n",
        "\n",
        "def run_simulation(solver, h, s, u, z_b, final_time, dt):\n",
        "    h_in = Constant(100.0)\n",
        "    a = interpolate(a_0, h.function_space())\n",
        "\n",
        "    num_steps = int(final_time / dt)\n",
        "    for step in tqdm.trange(num_steps):\n",
        "        h = solver.prognostic_solve(\n",
        "            dt,\n",
        "            thickness=h,\n",
        "            velocity=u,\n",
        "            accumulation=a,\n",
        "            thickness_inflow=h_in,\n",
        "        )\n",
        "        s = icepack.compute_surface(thickness=h, bed=z_b)\n",
        "\n",
        "        u = solver.diagnostic_solve(\n",
        "            velocity=u,\n",
        "            thickness=h,\n",
        "            surface=s,\n",
        "            fluidity=A,\n",
        "            friction=C,\n",
        "        )\n",
        "\n",
        "    return h, s, u"
      ]
    },
    {
      "cell_type": "code",
      "execution_count": 8,
      "metadata": {
        "execution": {
          "iopub.execute_input": "2023-11-09T18:11:16.962368Z",
          "iopub.status.busy": "2023-11-09T18:11:16.961114Z",
          "iopub.status.idle": "2023-11-09T18:11:16.967245Z",
          "shell.execute_reply": "2023-11-09T18:11:16.966586Z"
        }
      },
      "outputs": [],
      "source": [
        "opts = {\n",
        "    \"dirichlet_ids\": [1],\n",
        "    \"side_wall_ids\": [3, 4],\n",
        "    \"diagnostic_solver_type\": \"petsc\",\n",
        "    \"diagnostic_solver_parameters\": {\n",
        "        \"snes_type\": \"newtontr\",\n",
        "        \"ksp_type\": \"preonly\",\n",
        "        \"pc_type\": \"lu\",\n",
        "        \"pc_factor_mat_solver_type\": \"mumps\",\n",
        "    },\n",
        "    \"prognostic_solver_parameters\": {\n",
        "        \"ksp_type\": \"gmres\",\n",
        "        \"pc_type\": \"ilu\",\n",
        "    },\n",
        "}"
      ]
    },
    {
      "cell_type": "markdown",
      "metadata": {},
      "source": [
        "Load in the steady state of the system, computed with degree-1 elements, from checkpoint files if it exists.\n",
        "Recreate the steady state from a cold start if not."
      ]
    },
    {
      "cell_type": "code",
      "execution_count": 9,
      "metadata": {
        "execution": {
          "iopub.execute_input": "2023-11-09T18:11:16.972055Z",
          "iopub.status.busy": "2023-11-09T18:11:16.970811Z",
          "iopub.status.idle": "2023-11-09T18:11:17.135933Z",
          "shell.execute_reply": "2023-11-09T18:11:17.135232Z"
        }
      },
      "outputs": [],
      "source": [
        "import os\n",
        "\n",
        "if os.path.exists(\"mismip-degree1.h5\"):\n",
        "    with firedrake.CheckpointFile(\"mismip-degree1.h5\", \"r\") as chk:\n",
        "        mesh = chk.load_mesh(name=\"mesh\")\n",
        "\n",
        "        h_1 = chk.load_function(mesh, name=\"thickness\")\n",
        "        s_1 = chk.load_function(mesh, name=\"surface\")\n",
        "        u_1 = chk.load_function(mesh, name=\"velocity\")\n",
        "        \n",
        "        Q1 = h_1.function_space()\n",
        "        V1 = u_1.function_space()\n",
        "else:\n",
        "    mesh = firedrake.RectangleMesh(nx, ny, Lx, Ly, name=\"mesh\")\n",
        "    Q1 = firedrake.FunctionSpace(mesh, \"CG\", 1)\n",
        "    V1 = firedrake.VectorFunctionSpace(mesh, \"CG\", 1)\n",
        "\n",
        "    z_b = interpolate(mismip_bed(mesh), Q1)\n",
        "    h_0 = interpolate(Constant(100), Q1)\n",
        "    s_0 = icepack.compute_surface(thickness=h_0, bed=z_b)\n",
        "\n",
        "    flow_solver = icepack.solvers.FlowSolver(model, **opts)\n",
        "    x = firedrake.SpatialCoordinate(mesh)[0]\n",
        "    u_0 = flow_solver.diagnostic_solve(\n",
        "        velocity=interpolate(as_vector((90 * x / Lx, 0)), V1),\n",
        "        thickness=h_0,\n",
        "        surface=s_0,\n",
        "        fluidity=A,\n",
        "        friction=C,\n",
        "    )\n",
        "\n",
        "    dt = 5.0\n",
        "    final_time = 3600\n",
        "\n",
        "    h_1, s_1, u_1 = run_simulation(\n",
        "        flow_solver, h_0, s_0, u_0, z_b, final_time, dt\n",
        "    )\n",
        "\n",
        "    with firedrake.CheckpointFile(\"mismip-degree1.h5\", \"w\") as chk:\n",
        "        chk.save_mesh(mesh)\n",
        "        chk.save_function(h_1, name=\"thickness\")\n",
        "        chk.save_function(s_1, name=\"surface\")\n",
        "        chk.save_function(u_1, name=\"velocity\")"
      ]
    },
    {
      "cell_type": "markdown",
      "metadata": {},
      "source": [
        "Load in the steady state computed with degree-2 elements from a file if it exists, or spin it up from the degree-1 solution if not."
      ]
    },
    {
      "cell_type": "code",
      "execution_count": 10,
      "metadata": {
        "execution": {
          "iopub.execute_input": "2023-11-09T18:11:17.141055Z",
          "iopub.status.busy": "2023-11-09T18:11:17.139870Z",
          "iopub.status.idle": "2023-11-09T18:11:17.920413Z",
          "shell.execute_reply": "2023-11-09T18:11:17.919404Z"
        }
      },
      "outputs": [
        {
          "ename": "NameError",
          "evalue": "name 'z_b' is not defined",
          "output_type": "error",
          "traceback": [
            "\u001b[0;31m---------------------------------------------------------------------------\u001b[0m",
            "\u001b[0;31mNameError\u001b[0m                                 Traceback (most recent call last)",
            "Cell \u001b[0;32mIn[10], line 24\u001b[0m\n\u001b[1;32m     20\u001b[0m final_time \u001b[38;5;241m=\u001b[39m \u001b[38;5;241m3600\u001b[39m\n\u001b[1;32m     21\u001b[0m dt \u001b[38;5;241m=\u001b[39m \u001b[38;5;241m4.0\u001b[39m\n\u001b[1;32m     23\u001b[0m h, s, u \u001b[38;5;241m=\u001b[39m run_simulation(\n\u001b[0;32m---> 24\u001b[0m     flow_solver, h, s, u, \u001b[43mz_b\u001b[49m, final_time, dt\n\u001b[1;32m     25\u001b[0m )\n\u001b[1;32m     27\u001b[0m \u001b[38;5;28;01mwith\u001b[39;00m firedrake\u001b[38;5;241m.\u001b[39mCheckpointFile(\u001b[38;5;124m\"\u001b[39m\u001b[38;5;124mmismip-degree2.h5\u001b[39m\u001b[38;5;124m\"\u001b[39m, \u001b[38;5;124m\"\u001b[39m\u001b[38;5;124mw\u001b[39m\u001b[38;5;124m\"\u001b[39m) \u001b[38;5;28;01mas\u001b[39;00m chk:\n\u001b[1;32m     28\u001b[0m     chk\u001b[38;5;241m.\u001b[39msave_mesh(mesh)\n",
            "\u001b[0;31mNameError\u001b[0m: name 'z_b' is not defined"
          ]
        }
      ],
      "source": [
        "flow_solver = icepack.solvers.FlowSolver(model, **opts)\n",
        "\n",
        "if os.path.exists(\"mismip-degree2.h5\"):\n",
        "    with firedrake.CheckpointFile(\"mismip-degree2.h5\", \"r\") as chk:\n",
        "        mesh = chk.load_mesh(name=\"mesh\")\n",
        "        h = chk.load_function(mesh, name=\"thickness\")\n",
        "        s = chk.load_function(mesh, name=\"surface\")\n",
        "        u = chk.load_function(mesh, name=\"velocity\")\n",
        "        \n",
        "        Q2 = h.function_space()\n",
        "        V2 = u.function_space()\n",
        "else:\n",
        "    Q2 = firedrake.FunctionSpace(mesh, \"CG\", 2)\n",
        "    V2 = firedrake.VectorFunctionSpace(mesh, \"CG\", 2)\n",
        "\n",
        "    h = interpolate(h_1, Q2)\n",
        "    s = interpolate(s_1, Q2)\n",
        "    u = interpolate(u_1, V2)\n",
        "\n",
        "    final_time = 3600\n",
        "    dt = 4.0\n",
        "\n",
        "    h, s, u = run_simulation(\n",
        "        flow_solver, h, s, u, z_b, final_time, dt\n",
        "    )\n",
        "\n",
        "    with firedrake.CheckpointFile(\"mismip-degree2.h5\", \"w\") as chk:\n",
        "        chk.save_mesh(mesh)\n",
        "        chk.save_function(h, name=\"thickness\")\n",
        "        chk.save_function(s, name=\"surface\")\n",
        "        chk.save_function(u, name=\"velocity\")\n",
        "        \n",
        "z_b = interpolate(mismip_bed(mesh), Q2)"
      ]
    },
    {
      "cell_type": "markdown",
      "metadata": {},
      "source": [
        "### Simulation\n",
        "\n",
        "For the inversion scenario, we'd like to make the system do something a little more interesting than just relax to steady state.\n",
        "To achieve that, we'll add a 1-year periodic oscillation to the accumulation rate.\n",
        "The only change in the core simulation loop is that now we're interpolating a new value to the accumulation rate at every step.\n",
        "Additionally, we're keeping the full time history of the system state in a list instead of just storing the final state."
      ]
    },
    {
      "cell_type": "code",
      "execution_count": 11,
      "metadata": {
        "execution": {
          "iopub.execute_input": "2023-11-09T18:11:17.955034Z",
          "iopub.status.busy": "2023-11-09T18:11:17.954703Z",
          "iopub.status.idle": "2023-11-09T18:11:20.346809Z",
          "shell.execute_reply": "2023-11-09T18:11:20.346127Z"
        }
      },
      "outputs": [
        {
          "name": "stderr",
          "output_type": "stream",
          "text": [
            "  0%|          | 0/600 [00:02<?, ?it/s]\n"
          ]
        },
        {
          "ename": "NameError",
          "evalue": "name 'z_b' is not defined",
          "output_type": "error",
          "traceback": [
            "\u001b[0;31m---------------------------------------------------------------------------\u001b[0m",
            "\u001b[0;31mNameError\u001b[0m                                 Traceback (most recent call last)",
            "Cell \u001b[0;32mIn[11], line 27\u001b[0m\n\u001b[1;32m     18\u001b[0m a\u001b[38;5;241m.\u001b[39minterpolate(a_0 \u001b[38;5;241m+\u001b[39m δa \u001b[38;5;241m*\u001b[39m firedrake\u001b[38;5;241m.\u001b[39msin(\u001b[38;5;241m2\u001b[39m \u001b[38;5;241m*\u001b[39m π \u001b[38;5;241m*\u001b[39m t))\n\u001b[1;32m     20\u001b[0m h \u001b[38;5;241m=\u001b[39m flow_solver\u001b[38;5;241m.\u001b[39mprognostic_solve(\n\u001b[1;32m     21\u001b[0m     dt,\n\u001b[1;32m     22\u001b[0m     thickness\u001b[38;5;241m=\u001b[39mh,\n\u001b[0;32m   (...)\u001b[0m\n\u001b[1;32m     25\u001b[0m     thickness_inflow\u001b[38;5;241m=\u001b[39mh_in,\n\u001b[1;32m     26\u001b[0m )\n\u001b[0;32m---> 27\u001b[0m s \u001b[38;5;241m=\u001b[39m icepack\u001b[38;5;241m.\u001b[39mcompute_surface(thickness\u001b[38;5;241m=\u001b[39mh, bed\u001b[38;5;241m=\u001b[39m\u001b[43mz_b\u001b[49m)\n\u001b[1;32m     29\u001b[0m u \u001b[38;5;241m=\u001b[39m flow_solver\u001b[38;5;241m.\u001b[39mdiagnostic_solve(\n\u001b[1;32m     30\u001b[0m     velocity\u001b[38;5;241m=\u001b[39mu,\n\u001b[1;32m     31\u001b[0m     thickness\u001b[38;5;241m=\u001b[39mh,\n\u001b[0;32m   (...)\u001b[0m\n\u001b[1;32m     34\u001b[0m     friction\u001b[38;5;241m=\u001b[39mC,\n\u001b[1;32m     35\u001b[0m )\n\u001b[1;32m     37\u001b[0m hs\u001b[38;5;241m.\u001b[39mappend(h\u001b[38;5;241m.\u001b[39mcopy(deepcopy\u001b[38;5;241m=\u001b[39m\u001b[38;5;28;01mTrue\u001b[39;00m))\n",
            "\u001b[0;31mNameError\u001b[0m: name 'z_b' is not defined"
          ]
        }
      ],
      "source": [
        "import numpy as np\n",
        "from numpy import pi as π\n",
        "\n",
        "final_time = 25.0\n",
        "dt = 1.0 / 24\n",
        "\n",
        "hs = [h.copy(deepcopy=True)]\n",
        "ss = [s.copy(deepcopy=True)]\n",
        "us = [u.copy(deepcopy=True)]\n",
        "\n",
        "h_in = Constant(100.0)\n",
        "a = firedrake.Function(Q2)\n",
        "δa = Constant(0.2)\n",
        "\n",
        "num_steps = int(final_time / dt)\n",
        "for step in tqdm.trange(num_steps):\n",
        "    t = step * dt\n",
        "    a.interpolate(a_0 + δa * firedrake.sin(2 * π * t))\n",
        "    \n",
        "    h = flow_solver.prognostic_solve(\n",
        "        dt,\n",
        "        thickness=h,\n",
        "        velocity=u,\n",
        "        accumulation=a,\n",
        "        thickness_inflow=h_in,\n",
        "    )\n",
        "    s = icepack.compute_surface(thickness=h, bed=z_b)\n",
        "\n",
        "    u = flow_solver.diagnostic_solve(\n",
        "        velocity=u,\n",
        "        thickness=h,\n",
        "        surface=s,\n",
        "        fluidity=A,\n",
        "        friction=C,\n",
        "    )\n",
        "\n",
        "    hs.append(h.copy(deepcopy=True))\n",
        "    ss.append(s.copy(deepcopy=True))\n",
        "    us.append(u.copy(deepcopy=True))"
      ]
    },
    {
      "cell_type": "markdown",
      "metadata": {},
      "source": [
        "The plot below shows the average thickness of the glacier over time.\n",
        "By the end of the interval the system has migrated towards a reasonably stable limit cycle."
      ]
    },
    {
      "cell_type": "code",
      "execution_count": 12,
      "metadata": {
        "execution": {
          "iopub.execute_input": "2023-11-09T18:11:20.351670Z",
          "iopub.status.busy": "2023-11-09T18:11:20.350442Z",
          "iopub.status.idle": "2023-11-09T18:11:21.340124Z",
          "shell.execute_reply": "2023-11-09T18:11:21.339304Z"
        }
      },
      "outputs": [
        {
          "ename": "ValueError",
          "evalue": "x and y must have same first dimension, but have shapes (601,) and (1,)",
          "output_type": "error",
          "traceback": [
            "\u001b[0;31m---------------------------------------------------------------------------\u001b[0m",
            "\u001b[0;31mValueError\u001b[0m                                Traceback (most recent call last)",
            "Cell \u001b[0;32mIn[12], line 9\u001b[0m\n\u001b[1;32m      7\u001b[0m ax\u001b[38;5;241m.\u001b[39mset_xlabel(\u001b[38;5;124m\"\u001b[39m\u001b[38;5;124mtime (years)\u001b[39m\u001b[38;5;124m\"\u001b[39m)\n\u001b[1;32m      8\u001b[0m ax\u001b[38;5;241m.\u001b[39mset_ylabel(\u001b[38;5;124m\"\u001b[39m\u001b[38;5;124maverage thickness (meters)\u001b[39m\u001b[38;5;124m\"\u001b[39m)\n\u001b[0;32m----> 9\u001b[0m \u001b[43max\u001b[49m\u001b[38;5;241;43m.\u001b[39;49m\u001b[43mplot\u001b[49m\u001b[43m(\u001b[49m\u001b[43mtimes\u001b[49m\u001b[43m,\u001b[49m\u001b[43m \u001b[49m\u001b[43maverage_thicknesses\u001b[49m\u001b[43m)\u001b[49m;\n",
            "File \u001b[0;32m/home/firedrake/firedrake/lib/python3.10/site-packages/matplotlib/axes/_axes.py:1721\u001b[0m, in \u001b[0;36mAxes.plot\u001b[0;34m(self, scalex, scaley, data, *args, **kwargs)\u001b[0m\n\u001b[1;32m   1478\u001b[0m \u001b[38;5;250m\u001b[39m\u001b[38;5;124;03m\"\"\"\u001b[39;00m\n\u001b[1;32m   1479\u001b[0m \u001b[38;5;124;03mPlot y versus x as lines and/or markers.\u001b[39;00m\n\u001b[1;32m   1480\u001b[0m \n\u001b[0;32m   (...)\u001b[0m\n\u001b[1;32m   1718\u001b[0m \u001b[38;5;124;03m(``'green'``) or hex strings (``'#008000'``).\u001b[39;00m\n\u001b[1;32m   1719\u001b[0m \u001b[38;5;124;03m\"\"\"\u001b[39;00m\n\u001b[1;32m   1720\u001b[0m kwargs \u001b[38;5;241m=\u001b[39m cbook\u001b[38;5;241m.\u001b[39mnormalize_kwargs(kwargs, mlines\u001b[38;5;241m.\u001b[39mLine2D)\n\u001b[0;32m-> 1721\u001b[0m lines \u001b[38;5;241m=\u001b[39m [\u001b[38;5;241m*\u001b[39m\u001b[38;5;28mself\u001b[39m\u001b[38;5;241m.\u001b[39m_get_lines(\u001b[38;5;28mself\u001b[39m, \u001b[38;5;241m*\u001b[39margs, data\u001b[38;5;241m=\u001b[39mdata, \u001b[38;5;241m*\u001b[39m\u001b[38;5;241m*\u001b[39mkwargs)]\n\u001b[1;32m   1722\u001b[0m \u001b[38;5;28;01mfor\u001b[39;00m line \u001b[38;5;129;01min\u001b[39;00m lines:\n\u001b[1;32m   1723\u001b[0m     \u001b[38;5;28mself\u001b[39m\u001b[38;5;241m.\u001b[39madd_line(line)\n",
            "File \u001b[0;32m/home/firedrake/firedrake/lib/python3.10/site-packages/matplotlib/axes/_base.py:303\u001b[0m, in \u001b[0;36m_process_plot_var_args.__call__\u001b[0;34m(self, axes, data, *args, **kwargs)\u001b[0m\n\u001b[1;32m    301\u001b[0m     this \u001b[38;5;241m+\u001b[39m\u001b[38;5;241m=\u001b[39m args[\u001b[38;5;241m0\u001b[39m],\n\u001b[1;32m    302\u001b[0m     args \u001b[38;5;241m=\u001b[39m args[\u001b[38;5;241m1\u001b[39m:]\n\u001b[0;32m--> 303\u001b[0m \u001b[38;5;28;01myield from\u001b[39;00m \u001b[38;5;28;43mself\u001b[39;49m\u001b[38;5;241;43m.\u001b[39;49m\u001b[43m_plot_args\u001b[49m\u001b[43m(\u001b[49m\n\u001b[1;32m    304\u001b[0m \u001b[43m    \u001b[49m\u001b[43maxes\u001b[49m\u001b[43m,\u001b[49m\u001b[43m \u001b[49m\u001b[43mthis\u001b[49m\u001b[43m,\u001b[49m\u001b[43m \u001b[49m\u001b[43mkwargs\u001b[49m\u001b[43m,\u001b[49m\u001b[43m \u001b[49m\u001b[43mambiguous_fmt_datakey\u001b[49m\u001b[38;5;241;43m=\u001b[39;49m\u001b[43mambiguous_fmt_datakey\u001b[49m\u001b[43m)\u001b[49m\n",
            "File \u001b[0;32m/home/firedrake/firedrake/lib/python3.10/site-packages/matplotlib/axes/_base.py:499\u001b[0m, in \u001b[0;36m_process_plot_var_args._plot_args\u001b[0;34m(self, axes, tup, kwargs, return_kwargs, ambiguous_fmt_datakey)\u001b[0m\n\u001b[1;32m    496\u001b[0m     axes\u001b[38;5;241m.\u001b[39myaxis\u001b[38;5;241m.\u001b[39mupdate_units(y)\n\u001b[1;32m    498\u001b[0m \u001b[38;5;28;01mif\u001b[39;00m x\u001b[38;5;241m.\u001b[39mshape[\u001b[38;5;241m0\u001b[39m] \u001b[38;5;241m!=\u001b[39m y\u001b[38;5;241m.\u001b[39mshape[\u001b[38;5;241m0\u001b[39m]:\n\u001b[0;32m--> 499\u001b[0m     \u001b[38;5;28;01mraise\u001b[39;00m \u001b[38;5;167;01mValueError\u001b[39;00m(\u001b[38;5;124mf\u001b[39m\u001b[38;5;124m\"\u001b[39m\u001b[38;5;124mx and y must have same first dimension, but \u001b[39m\u001b[38;5;124m\"\u001b[39m\n\u001b[1;32m    500\u001b[0m                      \u001b[38;5;124mf\u001b[39m\u001b[38;5;124m\"\u001b[39m\u001b[38;5;124mhave shapes \u001b[39m\u001b[38;5;132;01m{\u001b[39;00mx\u001b[38;5;241m.\u001b[39mshape\u001b[38;5;132;01m}\u001b[39;00m\u001b[38;5;124m and \u001b[39m\u001b[38;5;132;01m{\u001b[39;00my\u001b[38;5;241m.\u001b[39mshape\u001b[38;5;132;01m}\u001b[39;00m\u001b[38;5;124m\"\u001b[39m)\n\u001b[1;32m    501\u001b[0m \u001b[38;5;28;01mif\u001b[39;00m x\u001b[38;5;241m.\u001b[39mndim \u001b[38;5;241m>\u001b[39m \u001b[38;5;241m2\u001b[39m \u001b[38;5;129;01mor\u001b[39;00m y\u001b[38;5;241m.\u001b[39mndim \u001b[38;5;241m>\u001b[39m \u001b[38;5;241m2\u001b[39m:\n\u001b[1;32m    502\u001b[0m     \u001b[38;5;28;01mraise\u001b[39;00m \u001b[38;5;167;01mValueError\u001b[39;00m(\u001b[38;5;124mf\u001b[39m\u001b[38;5;124m\"\u001b[39m\u001b[38;5;124mx and y can be no greater than 2D, but have \u001b[39m\u001b[38;5;124m\"\u001b[39m\n\u001b[1;32m    503\u001b[0m                      \u001b[38;5;124mf\u001b[39m\u001b[38;5;124m\"\u001b[39m\u001b[38;5;124mshapes \u001b[39m\u001b[38;5;132;01m{\u001b[39;00mx\u001b[38;5;241m.\u001b[39mshape\u001b[38;5;132;01m}\u001b[39;00m\u001b[38;5;124m and \u001b[39m\u001b[38;5;132;01m{\u001b[39;00my\u001b[38;5;241m.\u001b[39mshape\u001b[38;5;132;01m}\u001b[39;00m\u001b[38;5;124m\"\u001b[39m)\n",
            "\u001b[0;31mValueError\u001b[0m: x and y must have same first dimension, but have shapes (601,) and (1,)"
          ]
        },
        {
          "data": {
            "image/png": "[encoded data removed]",
            "text/plain": [
              "<Figure size 640x480 with 1 Axes>"
            ]
          },
          "metadata": {},
          "output_type": "display_data"
        }
      ],
      "source": [
        "import matplotlib.pyplot as plt\n",
        "\n",
        "average_thicknesses = np.array([firedrake.assemble(h * dx) / (Lx * Ly) for h in hs])\n",
        "times = np.linspace(0, final_time, num_steps + 1)\n",
        "\n",
        "fig, ax = plt.subplots()\n",
        "ax.set_xlabel(\"time (years)\")\n",
        "ax.set_ylabel(\"average thickness (meters)\")\n",
        "ax.plot(times, average_thicknesses);"
      ]
    },
    {
      "cell_type": "markdown",
      "metadata": {},
      "source": [
        "### Hindcasting\n",
        "\n",
        "We're now going to see if we can recover the state of the system at time $t = 23.5$ from knowledge of the system state at time $t = 25$.\n",
        "The biggest departure in this notebook from the previous demonstration of statistical estimation problems is that now our simulation includes a full loop over all timesteps, rather than a single diagnostic solve.\n",
        "The simulation has to take in the controls (the unknown initial thickness) and return the observables (the final thickness).\n",
        "There are a few extra variables, like the start and end times and the mean and fluctuations of the accumulation rate, that come in implicitly but aren't actual function arguments."
      ]
    },
    {
      "cell_type": "code",
      "execution_count": 13,
      "metadata": {
        "execution": {
          "iopub.execute_input": "2023-11-09T18:11:21.345394Z",
          "iopub.status.busy": "2023-11-09T18:11:21.344073Z",
          "iopub.status.idle": "2023-11-09T18:11:21.353485Z",
          "shell.execute_reply": "2023-11-09T18:11:21.352783Z"
        }
      },
      "outputs": [],
      "source": [
        "start_time = 23.5\n",
        "final_time = 25.0\n",
        "\n",
        "def simulation(h_initial):\n",
        "    a = firedrake.Function(Q2)\n",
        "    h = h_initial.copy(deepcopy=True)\n",
        "    s = icepack.compute_surface(thickness=h, bed=z_b)\n",
        "    u = flow_solver.diagnostic_solve(\n",
        "        velocity=us[-1].copy(deepcopy=True),\n",
        "        thickness=h,\n",
        "        surface=s,\n",
        "        fluidity=A,\n",
        "        friction=C,\n",
        "    )\n",
        "    t = Constant(start_time)\n",
        "\n",
        "    num_steps = int((final_time - start_time) / dt)\n",
        "    for step in tqdm.trange(num_steps):\n",
        "        t = Constant(t + dt)\n",
        "        a.interpolate(a_0 + δa * firedrake.sin(2 * π * t))\n",
        "\n",
        "        h = flow_solver.prognostic_solve(\n",
        "            dt,\n",
        "            thickness=h,\n",
        "            velocity=u,\n",
        "            accumulation=a,\n",
        "            thickness_inflow=h_in,\n",
        "        )\n",
        "        s = icepack.compute_surface(thickness=h, bed=z_b)\n",
        "\n",
        "        u = flow_solver.diagnostic_solve(\n",
        "            velocity=u,\n",
        "            thickness=h,\n",
        "            surface=s,\n",
        "            fluidity=A,\n",
        "            friction=C,\n",
        "        )\n",
        "\n",
        "    return h"
      ]
    },
    {
      "cell_type": "markdown",
      "metadata": {},
      "source": [
        "The loss functional calculates how well the final thickness and velocity from the simulation matches that from the actual time series."
      ]
    },
    {
      "cell_type": "code",
      "execution_count": 14,
      "metadata": {
        "execution": {
          "iopub.execute_input": "2023-11-09T18:11:21.358644Z",
          "iopub.status.busy": "2023-11-09T18:11:21.357344Z",
          "iopub.status.idle": "2023-11-09T18:11:21.363729Z",
          "shell.execute_reply": "2023-11-09T18:11:21.362821Z"
        }
      },
      "outputs": [],
      "source": [
        "def loss_functional(h_final):\n",
        "    σ_h = Constant(1.0)\n",
        "    return 0.5 / area * ((h_final - hs[-1]) / σ_h)**2 * dx"
      ]
    },
    {
      "cell_type": "markdown",
      "metadata": {},
      "source": [
        "In the previous demonstration of inverse methods, we used a prior that favored a smooth value of the fluidity:\n",
        "\n",
        "$$R(\\theta) = \\frac{\\alpha^2}{2}\\int_\\Omega|\\nabla\\theta|^2dx.$$\n",
        "\n",
        "Here we have a little more knowledge; while the initial state might depart somewhat from the final state, we expect the difference between the two to be fairly smooth.\n",
        "So we'll instead use the prior\n",
        "\n",
        "$$R(h(t_0)) = \\frac{\\alpha^2}{2}\\int_\\Omega|\\nabla(h(t_1) - h(t_0))|^2dx.$$"
      ]
    },
    {
      "cell_type": "code",
      "execution_count": 15,
      "metadata": {
        "execution": {
          "iopub.execute_input": "2023-11-09T18:11:21.368764Z",
          "iopub.status.busy": "2023-11-09T18:11:21.367516Z",
          "iopub.status.idle": "2023-11-09T18:11:21.373556Z",
          "shell.execute_reply": "2023-11-09T18:11:21.372915Z"
        }
      },
      "outputs": [],
      "source": [
        "def regularization(h_initial):\n",
        "    α = Constant(0.0)\n",
        "    δh = h_initial - hs[-1]\n",
        "    return 0.5 * α**2 / area * inner(grad(δh), grad(δh)) * dx"
      ]
    },
    {
      "cell_type": "markdown",
      "metadata": {},
      "source": [
        "As our starting guess for the initial thickness, we'll assume that it's equal to the final thickness."
      ]
    },
    {
      "cell_type": "code",
      "execution_count": 16,
      "metadata": {
        "execution": {
          "iopub.execute_input": "2023-11-09T18:11:21.378146Z",
          "iopub.status.busy": "2023-11-09T18:11:21.376970Z",
          "iopub.status.idle": "2023-11-09T18:11:21.382497Z",
          "shell.execute_reply": "2023-11-09T18:11:21.381781Z"
        }
      },
      "outputs": [],
      "source": [
        "h_initial = hs[-1].copy(deepcopy=True)"
      ]
    },
    {
      "cell_type": "markdown",
      "metadata": {},
      "source": [
        "We've added a few extra options to pass to the optimizer in order to guarantee convergence to the right solution."
      ]
    },
    {
      "cell_type": "code",
      "execution_count": 17,
      "metadata": {
        "execution": {
          "iopub.execute_input": "2023-11-09T18:11:21.387174Z",
          "iopub.status.busy": "2023-11-09T18:11:21.385998Z",
          "iopub.status.idle": "2023-11-09T18:11:21.392670Z",
          "shell.execute_reply": "2023-11-09T18:11:21.391939Z"
        }
      },
      "outputs": [],
      "source": [
        "from icepack.statistics import (\n",
        "    StatisticsProblem,\n",
        "    MaximumProbabilityEstimator,\n",
        ")\n",
        "\n",
        "stats_problem = StatisticsProblem(\n",
        "    simulation=simulation,\n",
        "    loss_functional=loss_functional,\n",
        "    regularization=regularization,\n",
        "    controls=h_initial,\n",
        ")\n",
        "\n",
        "estimator = MaximumProbabilityEstimator(\n",
        "    stats_problem,\n",
        "    algorithm=\"bfgs\",\n",
        "    memory=10,\n",
        "    gradient_tolerance=1e-12,\n",
        "    step_tolerance=5e-14,\n",
        ")"
      ]
    },
    {
      "cell_type": "code",
      "execution_count": 18,
      "metadata": {
        "execution": {
          "iopub.execute_input": "2023-11-09T18:11:21.397369Z",
          "iopub.status.busy": "2023-11-09T18:11:21.396177Z",
          "iopub.status.idle": "2023-11-09T18:11:21.479866Z",
          "shell.execute_reply": "2023-11-09T18:11:21.479128Z"
        }
      },
      "outputs": [
        {
          "ename": "NameError",
          "evalue": "name 'z_b' is not defined",
          "output_type": "error",
          "traceback": [
            "\u001b[0;31m---------------------------------------------------------------------------\u001b[0m",
            "\u001b[0;31mNameError\u001b[0m                                 Traceback (most recent call last)",
            "Cell \u001b[0;32mIn[18], line 1\u001b[0m\n\u001b[0;32m----> 1\u001b[0m h_min \u001b[38;5;241m=\u001b[39m \u001b[43mestimator\u001b[49m\u001b[38;5;241;43m.\u001b[39;49m\u001b[43msolve\u001b[49m\u001b[43m(\u001b[49m\u001b[43m)\u001b[49m\n",
            "File \u001b[0;32m/__w/icepack.github.io/icepack.github.io/icepack/src/icepack/statistics.py:167\u001b[0m, in \u001b[0;36mMaximumProbabilityEstimator.solve\u001b[0;34m(self)\u001b[0m\n\u001b[1;32m    164\u001b[0m     \u001b[38;5;28mself\u001b[39m\u001b[38;5;241m.\u001b[39m_controls \u001b[38;5;241m=\u001b[39m [field\u001b[38;5;241m.\u001b[39mcopy(deepcopy\u001b[38;5;241m=\u001b[39m\u001b[38;5;28;01mTrue\u001b[39;00m) \u001b[38;5;28;01mfor\u001b[39;00m field \u001b[38;5;129;01min\u001b[39;00m problem\u001b[38;5;241m.\u001b[39mcontrols]\n\u001b[1;32m    166\u001b[0m \u001b[38;5;66;03m# Form the objective functional\u001b[39;00m\n\u001b[0;32m--> 167\u001b[0m \u001b[38;5;28mself\u001b[39m\u001b[38;5;241m.\u001b[39m_state \u001b[38;5;241m=\u001b[39m \u001b[38;5;28;43mself\u001b[39;49m\u001b[38;5;241;43m.\u001b[39;49m\u001b[43mproblem\u001b[49m\u001b[38;5;241;43m.\u001b[39;49m\u001b[43msimulation\u001b[49m\u001b[43m(\u001b[49m\u001b[38;5;28;43mself\u001b[39;49m\u001b[38;5;241;43m.\u001b[39;49m\u001b[43mcontrols\u001b[49m\u001b[43m)\u001b[49m\n\u001b[1;32m    168\u001b[0m E \u001b[38;5;241m=\u001b[39m \u001b[38;5;28msum\u001b[39m(assemble(E(\u001b[38;5;28mself\u001b[39m\u001b[38;5;241m.\u001b[39mstate)) \u001b[38;5;28;01mfor\u001b[39;00m E \u001b[38;5;129;01min\u001b[39;00m \u001b[38;5;28mself\u001b[39m\u001b[38;5;241m.\u001b[39mproblem\u001b[38;5;241m.\u001b[39mloss_functional)\n\u001b[1;32m    169\u001b[0m R \u001b[38;5;241m=\u001b[39m \u001b[38;5;28msum\u001b[39m(assemble(R(\u001b[38;5;28mself\u001b[39m\u001b[38;5;241m.\u001b[39mcontrols)) \u001b[38;5;28;01mfor\u001b[39;00m R \u001b[38;5;129;01min\u001b[39;00m \u001b[38;5;28mself\u001b[39m\u001b[38;5;241m.\u001b[39mproblem\u001b[38;5;241m.\u001b[39mregularization)\n",
            "Cell \u001b[0;32mIn[13], line 7\u001b[0m, in \u001b[0;36msimulation\u001b[0;34m(h_initial)\u001b[0m\n\u001b[1;32m      5\u001b[0m a \u001b[38;5;241m=\u001b[39m firedrake\u001b[38;5;241m.\u001b[39mFunction(Q2)\n\u001b[1;32m      6\u001b[0m h \u001b[38;5;241m=\u001b[39m h_initial\u001b[38;5;241m.\u001b[39mcopy(deepcopy\u001b[38;5;241m=\u001b[39m\u001b[38;5;28;01mTrue\u001b[39;00m)\n\u001b[0;32m----> 7\u001b[0m s \u001b[38;5;241m=\u001b[39m icepack\u001b[38;5;241m.\u001b[39mcompute_surface(thickness\u001b[38;5;241m=\u001b[39mh, bed\u001b[38;5;241m=\u001b[39m\u001b[43mz_b\u001b[49m)\n\u001b[1;32m      8\u001b[0m u \u001b[38;5;241m=\u001b[39m flow_solver\u001b[38;5;241m.\u001b[39mdiagnostic_solve(\n\u001b[1;32m      9\u001b[0m     velocity\u001b[38;5;241m=\u001b[39mus[\u001b[38;5;241m-\u001b[39m\u001b[38;5;241m1\u001b[39m]\u001b[38;5;241m.\u001b[39mcopy(deepcopy\u001b[38;5;241m=\u001b[39m\u001b[38;5;28;01mTrue\u001b[39;00m),\n\u001b[1;32m     10\u001b[0m     thickness\u001b[38;5;241m=\u001b[39mh,\n\u001b[0;32m   (...)\u001b[0m\n\u001b[1;32m     13\u001b[0m     friction\u001b[38;5;241m=\u001b[39mC,\n\u001b[1;32m     14\u001b[0m )\n\u001b[1;32m     15\u001b[0m t \u001b[38;5;241m=\u001b[39m Constant(start_time)\n",
            "\u001b[0;31mNameError\u001b[0m: name 'z_b' is not defined"
          ]
        }
      ],
      "source": [
        "h_min = estimator.solve()"
      ]
    },
    {
      "cell_type": "markdown",
      "metadata": {},
      "source": [
        "The minimizer is appreciably different from the thickness at $t = 25.0$ and very to the value at $t = 23.5$, so the algorithm has reproduced the initial condition that we pretended not to know."
      ]
    },
    {
      "cell_type": "code",
      "execution_count": 19,
      "metadata": {
        "execution": {
          "iopub.execute_input": "2023-11-09T18:11:21.484983Z",
          "iopub.status.busy": "2023-11-09T18:11:21.483663Z",
          "iopub.status.idle": "2023-11-09T18:11:21.513404Z",
          "shell.execute_reply": "2023-11-09T18:11:21.512753Z"
        }
      },
      "outputs": [
        {
          "ename": "NameError",
          "evalue": "name 'h_min' is not defined",
          "output_type": "error",
          "traceback": [
            "\u001b[0;31m---------------------------------------------------------------------------\u001b[0m",
            "\u001b[0;31mNameError\u001b[0m                                 Traceback (most recent call last)",
            "Cell \u001b[0;32mIn[19], line 1\u001b[0m\n\u001b[0;32m----> 1\u001b[0m δh_end \u001b[38;5;241m=\u001b[39m \u001b[43mh_min\u001b[49m \u001b[38;5;241m-\u001b[39m hs[\u001b[38;5;241m-\u001b[39m\u001b[38;5;241m1\u001b[39m]\n\u001b[1;32m      2\u001b[0m \u001b[38;5;28mprint\u001b[39m(\u001b[38;5;124mf\u001b[39m\u001b[38;5;124m\"\u001b[39m\u001b[38;5;124m|h_min - h(25.0)|: \u001b[39m\u001b[38;5;132;01m{\u001b[39;00mfiredrake\u001b[38;5;241m.\u001b[39mnorm(δh_end)\u001b[38;5;132;01m}\u001b[39;00m\u001b[38;5;124m\"\u001b[39m)\n\u001b[1;32m      3\u001b[0m num_steps \u001b[38;5;241m=\u001b[39m \u001b[38;5;28mint\u001b[39m((final_time \u001b[38;5;241m-\u001b[39m start_time) \u001b[38;5;241m/\u001b[39m dt)\n",
            "\u001b[0;31mNameError\u001b[0m: name 'h_min' is not defined"
          ]
        }
      ],
      "source": [
        "δh_end = h_min - hs[-1]\n",
        "print(f\"|h_min - h(25.0)|: {firedrake.norm(δh_end)}\")\n",
        "num_steps = int((final_time - start_time) / dt)\n",
        "δh_start = h_min - hs[-1 - num_steps]\n",
        "print(f\"|h_min - h(23.5)|: {firedrake.norm(δh_start)}\")"
      ]
    },
    {
      "cell_type": "code",
      "execution_count": 20,
      "metadata": {
        "execution": {
          "iopub.execute_input": "2023-11-09T18:11:21.518217Z",
          "iopub.status.busy": "2023-11-09T18:11:21.516989Z",
          "iopub.status.idle": "2023-11-09T18:11:21.547122Z",
          "shell.execute_reply": "2023-11-09T18:11:21.546409Z"
        }
      },
      "outputs": [
        {
          "ename": "NameError",
          "evalue": "name 'h_min' is not defined",
          "output_type": "error",
          "traceback": [
            "\u001b[0;31m---------------------------------------------------------------------------\u001b[0m",
            "\u001b[0;31mNameError\u001b[0m                                 Traceback (most recent call last)",
            "Cell \u001b[0;32mIn[20], line 3\u001b[0m\n\u001b[1;32m      1\u001b[0m \u001b[38;5;28;01mimport\u001b[39;00m \u001b[38;5;21;01micepack\u001b[39;00m\u001b[38;5;21;01m.\u001b[39;00m\u001b[38;5;21;01mplot\u001b[39;00m\n\u001b[0;32m----> 3\u001b[0m δh \u001b[38;5;241m=\u001b[39m interpolate(\u001b[43mh_min\u001b[49m \u001b[38;5;241m-\u001b[39m hs[\u001b[38;5;241m-\u001b[39m\u001b[38;5;241m1\u001b[39m \u001b[38;5;241m-\u001b[39m num_steps], Q2)\n\u001b[1;32m      4\u001b[0m fig, axes \u001b[38;5;241m=\u001b[39m icepack\u001b[38;5;241m.\u001b[39mplot\u001b[38;5;241m.\u001b[39msubplots()\n\u001b[1;32m      5\u001b[0m axes\u001b[38;5;241m.\u001b[39mset_title(\u001b[38;5;124m\"\u001b[39m\u001b[38;5;124mEstimated - True thickness\u001b[39m\u001b[38;5;124m\"\u001b[39m)\n",
            "\u001b[0;31mNameError\u001b[0m: name 'h_min' is not defined"
          ]
        }
      ],
      "source": [
        "import icepack.plot\n",
        "\n",
        "δh = interpolate(h_min - hs[-1 - num_steps], Q2)\n",
        "fig, axes = icepack.plot.subplots()\n",
        "axes.set_title(\"Estimated - True thickness\")\n",
        "colors = firedrake.tripcolor(\n",
        "    δh, vmin=-0.002, vmax=+0.002, cmap=\"RdBu\", axes=axes\n",
        ")\n",
        "fig.colorbar(colors, fraction=0.01, pad=0.046);"
      ]
    },
    {
      "cell_type": "markdown",
      "metadata": {},
      "source": [
        "### Conclusion\n",
        "\n",
        "In previous demos, we've shown how use measurements of observable fields, like ice velocity and thickness, to estimate unknown parameters that satisfy constraints from a physics model.\n",
        "The physics model was fairly rudimentary before -- taking in a single field like the ice fluidity and returning the ice velocity as computed from the momentum conservation equation.\n",
        "Here we showed how to use much more complex simulations involving a full timestepping loop.\n",
        "Instead of estimating an unobservable parameter of the system, like the fluidity or friction coefficient, we instead showed how to estimate the thickness at a different time from when it was observed.\n",
        "\n",
        "Solving these kinds of problems is more computationally expensive and finding better or faster algorithms is an active area of research.\n",
        "While costly, the capability does open up many more possible research directions and improvements on existing practice.\n",
        "For example, when estimating the ice fluidity or friction, it's common to assume that the thickness and velocity measurements were taken at the same time.\n",
        "This assumption is almost never exactly true.\n",
        "The ability to do time-dependent data assimilation means that we can dispense with it."
      ]
    }
  ],
  "metadata": {
    "kernelspec": {
      "display_name": "firedrake",
      "language": "python",
      "name": "firedrake"
    },
    "language_info": {
      "codemirror_mode": {
        "name": "ipython",
        "version": 3
      },
      "file_extension": ".py",
      "mimetype": "text/x-python",
      "name": "python",
      "nbconvert_exporter": "python",
      "pygments_lexer": "ipython3",
      "version": "3.10.12"
    },
    "nikola": {
      "category": "",
      "date": "2023-11-09 10:42:25 UTC-08:00",
      "description": "",
      "link": "",
      "slug": "05-time-dependent-inverse",
      "tags": "",
      "title": "Time-dependent data assimilation",
      "type": "text",
      "hidetitle": "True"
    }
  },
  "nbformat": 4,
  "nbformat_minor": 2
}
