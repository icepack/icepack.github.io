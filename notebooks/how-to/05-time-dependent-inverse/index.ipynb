{
  "cells": [
    {
      "cell_type": "markdown",
      "metadata": {},
      "source": [
        "# Time-dependent data assimilation\n",
        "\n",
        "**Warning:** the code demonstrated in this notebook is experimental.\n",
        "Use it at your own risk.\n",
        "We had to tweak solver choices and settings in order to make it work.\n",
        "If you try to build off of it and something breaks, please [get in touch](https://icepack.github.io/contact/).\n",
        "\n",
        "This notebook will demonstrate some more of the capabilities that icepack has for assimilating observational data.\n",
        "In a previous demo, we showed how to estimate a parameter in an ice model (the fluidity) from remote sensing observations.\n",
        "To do so, we had to specify:\n",
        "\n",
        "1. the loss functional, or how we measure the agreement of our computed state with observations\n",
        "2. the regularization functional, or how unusual or complex our guess for these parameters were, and\n",
        "3. the simulation, or what the physics is that relates the parameters and the observable fields.\n",
        "\n",
        "In the previous demo, the governing physics was the momentum conservation equation of ice flow, which is time-independent.\n",
        "Here we'll look at how to use more involved simulations, including both mass and momentum conservation, that relate the unknown and the observable fields.\n",
        "The resulting simulation now depends on time.\n",
        "This is possible thanks to the adjoint capabilities in Firedrake and it looks pretty similar to the simpler time-dependent case.\n",
        "\n",
        "Rather than try to estimate an unobservable parameter as we did in the previous demo, we'll focus here on estimating the value of an initial condition from measurements of the glacier at a later time.\n",
        "In principle, you can do joint estimation of both state and parameters at once; as far as the code is concerned, there's no distinction between the two.\n",
        "We've stuck to a pure state estimation problem here just to keep things simple."
      ]
    },
    {
      "cell_type": "markdown",
      "metadata": {},
      "source": [
        "### Setup\n",
        "\n",
        "We'll start from the MISMIP+ geometry and steady state from the previous notebooks.\n",
        "Computing the steady state of the MISMIP+ test case is expensive.\n",
        "Rather than do a cold start every time, we'll instead load up a previously-computed steady state from checkpoint files if they're available.\n",
        "(See the [how-to guide](https://icepack.github.io/notebooks/how-to/02-checkpointing/) on checkpointing.)\n",
        "If not, we'll do an initial spin-up for 3600 years using a cheaper degree-1 finite element basis and then a final spin-up using a degree-2 basis."
      ]
    },
    {
      "cell_type": "code",
      "execution_count": 1,
      "metadata": {
        "execution": {
          "iopub.execute_input": "2022-09-30T19:32:31.284963Z",
          "iopub.status.busy": "2022-09-30T19:32:31.284246Z",
          "iopub.status.idle": "2022-09-30T19:32:34.831250Z",
          "shell.execute_reply": "2022-09-30T19:32:34.829430Z"
        }
      },
      "outputs": [],
      "source": [
        "import firedrake\n",
        "from firedrake import (\n",
        "    exp,\n",
        "    sqrt,\n",
        "    inner,\n",
        "    as_vector,\n",
        "    grad,\n",
        "    max_value,\n",
        "    Constant,\n",
        "    interpolate,\n",
        "    dx,\n",
        ")\n",
        "\n",
        "Lx, Ly = 640e3, 80e3\n",
        "ny = 20\n",
        "nx = int(Lx / Ly) * ny\n",
        "area = Constant(Lx * Ly)\n",
        "\n",
        "mesh = firedrake.RectangleMesh(nx, ny, Lx, Ly, name=\"mesh\")\n",
        "\n",
        "Q2 = firedrake.FunctionSpace(mesh, \"CG\", 2)\n",
        "V2 = firedrake.VectorFunctionSpace(mesh, \"CG\", 2)"
      ]
    },
    {
      "cell_type": "code",
      "execution_count": 2,
      "metadata": {
        "execution": {
          "iopub.execute_input": "2022-09-30T19:32:34.837368Z",
          "iopub.status.busy": "2022-09-30T19:32:34.836758Z",
          "iopub.status.idle": "2022-09-30T19:32:34.849001Z",
          "shell.execute_reply": "2022-09-30T19:32:34.847831Z"
        }
      },
      "outputs": [],
      "source": [
        "def mismip_bed(mesh):\n",
        "    x, y = firedrake.SpatialCoordinate(mesh)\n",
        "\n",
        "    x_c = Constant(300e3)\n",
        "    X = x / x_c\n",
        "\n",
        "    B_0 = Constant(-150)\n",
        "    B_2 = Constant(-728.8)\n",
        "    B_4 = Constant(343.91)\n",
        "    B_6 = Constant(-50.57)\n",
        "    B_x = B_0 + B_2 * X ** 2 + B_4 * X ** 4 + B_6 * X ** 6\n",
        "\n",
        "    f_c = Constant(4e3)\n",
        "    d_c = Constant(500)\n",
        "    w_c = Constant(24e3)\n",
        "\n",
        "    B_y = d_c * (\n",
        "        1 / (1 + exp(-2 * (y - Ly / 2 - w_c) / f_c)) +\n",
        "        1 / (1 + exp(+2 * (y - Ly / 2 + w_c) / f_c))\n",
        "    )\n",
        "\n",
        "    z_deep = Constant(-720)\n",
        "\n",
        "    return max_value(B_x + B_y, z_deep)"
      ]
    },
    {
      "cell_type": "code",
      "execution_count": 3,
      "metadata": {
        "execution": {
          "iopub.execute_input": "2022-09-30T19:32:34.853139Z",
          "iopub.status.busy": "2022-09-30T19:32:34.852686Z",
          "iopub.status.idle": "2022-09-30T19:32:34.858893Z",
          "shell.execute_reply": "2022-09-30T19:32:34.857494Z"
        }
      },
      "outputs": [],
      "source": [
        "A = Constant(20)\n",
        "C = Constant(1e-2)"
      ]
    },
    {
      "cell_type": "markdown",
      "metadata": {},
      "source": [
        "We'll use the Schoof-type friction law from before rather than the Weertman sliding law."
      ]
    },
    {
      "cell_type": "code",
      "execution_count": 4,
      "metadata": {
        "execution": {
          "iopub.execute_input": "2022-09-30T19:32:34.864156Z",
          "iopub.status.busy": "2022-09-30T19:32:34.863513Z",
          "iopub.status.idle": "2022-09-30T19:32:35.557641Z",
          "shell.execute_reply": "2022-09-30T19:32:35.556223Z"
        }
      },
      "outputs": [],
      "source": [
        "from icepack.constants import (\n",
        "    ice_density as ρ_I,\n",
        "    water_density as ρ_W,\n",
        "    gravity as g,\n",
        "    weertman_sliding_law as m,\n",
        ")\n",
        "\n",
        "\n",
        "def friction(**kwargs):\n",
        "    variables = (\"velocity\", \"thickness\", \"surface\", \"friction\")\n",
        "    u, h, s, C = map(kwargs.get, variables)\n",
        "\n",
        "    p_W = ρ_W * g * max_value(0, -(s - h))\n",
        "    p_I = ρ_I * g * h\n",
        "    N = max_value(0, p_I - p_W)\n",
        "    τ_c = N / 2\n",
        "\n",
        "    u_c = (τ_c / C) ** m\n",
        "    u_b = sqrt(inner(u, u))\n",
        "\n",
        "    return τ_c * (\n",
        "        (u_c**(1 / m + 1) + u_b**(1 / m + 1))**(m / (m + 1)) - u_c\n",
        "    )"
      ]
    },
    {
      "cell_type": "code",
      "execution_count": 5,
      "metadata": {
        "execution": {
          "iopub.execute_input": "2022-09-30T19:32:35.564129Z",
          "iopub.status.busy": "2022-09-30T19:32:35.563870Z",
          "iopub.status.idle": "2022-09-30T19:32:35.569382Z",
          "shell.execute_reply": "2022-09-30T19:32:35.568340Z"
        }
      },
      "outputs": [],
      "source": [
        "a_0 = Constant(0.3)"
      ]
    },
    {
      "cell_type": "code",
      "execution_count": 6,
      "metadata": {
        "execution": {
          "iopub.execute_input": "2022-09-30T19:32:35.574160Z",
          "iopub.status.busy": "2022-09-30T19:32:35.573776Z",
          "iopub.status.idle": "2022-09-30T19:32:35.578549Z",
          "shell.execute_reply": "2022-09-30T19:32:35.577604Z"
        }
      },
      "outputs": [],
      "source": [
        "import icepack\n",
        "model = icepack.models.IceStream(friction=friction)"
      ]
    },
    {
      "cell_type": "code",
      "execution_count": 7,
      "metadata": {
        "execution": {
          "iopub.execute_input": "2022-09-30T19:32:35.582930Z",
          "iopub.status.busy": "2022-09-30T19:32:35.582532Z",
          "iopub.status.idle": "2022-09-30T19:32:35.590068Z",
          "shell.execute_reply": "2022-09-30T19:32:35.588996Z"
        }
      },
      "outputs": [],
      "source": [
        "import tqdm\n",
        "\n",
        "\n",
        "def run_simulation(solver, h, s, u, z_b, final_time, dt):\n",
        "    h_in = Constant(100.0)\n",
        "    a = interpolate(a_0, h.function_space())\n",
        "\n",
        "    num_steps = int(final_time / dt)\n",
        "    for step in tqdm.trange(num_steps):\n",
        "        h = solver.prognostic_solve(\n",
        "            dt,\n",
        "            thickness=h,\n",
        "            velocity=u,\n",
        "            accumulation=a,\n",
        "            thickness_inflow=h_in,\n",
        "        )\n",
        "        s = icepack.compute_surface(thickness=h, bed=z_b)\n",
        "\n",
        "        u = solver.diagnostic_solve(\n",
        "            velocity=u,\n",
        "            thickness=h,\n",
        "            surface=s,\n",
        "            fluidity=A,\n",
        "            friction=C,\n",
        "        )\n",
        "\n",
        "    return h, s, u"
      ]
    },
    {
      "cell_type": "code",
      "execution_count": 8,
      "metadata": {
        "execution": {
          "iopub.execute_input": "2022-09-30T19:32:35.594762Z",
          "iopub.status.busy": "2022-09-30T19:32:35.594291Z",
          "iopub.status.idle": "2022-09-30T19:32:35.600930Z",
          "shell.execute_reply": "2022-09-30T19:32:35.599807Z"
        }
      },
      "outputs": [],
      "source": [
        "opts = {\n",
        "    \"dirichlet_ids\": [1],\n",
        "    \"side_wall_ids\": [3, 4],\n",
        "    \"diagnostic_solver_type\": \"petsc\",\n",
        "    \"diagnostic_solver_parameters\": {\n",
        "        \"snes_type\": \"newtontr\",\n",
        "        \"ksp_type\": \"preonly\",\n",
        "        \"pc_type\": \"lu\",\n",
        "        \"pc_factor_mat_solver_type\": \"mumps\",\n",
        "    },\n",
        "    \"prognostic_solver_parameters\": {\n",
        "        \"ksp_type\": \"gmres\",\n",
        "        \"pc_type\": \"ilu\",\n",
        "    },\n",
        "}"
      ]
    },
    {
      "cell_type": "markdown",
      "metadata": {},
      "source": [
        "Load in the steady state of the system, computed with degree-1 elements, from checkpoint files if it exists.\n",
        "Recreate the steady state from a cold start if not."
      ]
    },
    {
      "cell_type": "code",
      "execution_count": 9,
      "metadata": {
        "execution": {
          "iopub.execute_input": "2022-09-30T19:32:35.605748Z",
          "iopub.status.busy": "2022-09-30T19:32:35.605392Z",
          "iopub.status.idle": "2022-09-30T19:35:03.663168Z",
          "shell.execute_reply": "2022-09-30T19:35:03.661903Z"
        }
      },
      "outputs": [
        {
          "name": "stderr",
          "output_type": "stream",
          "text": [
            "100%|██████████| 720/720 [02:24<00:00,  4.99it/s]\n"
          ]
        }
      ],
      "source": [
        "import os\n",
        "\n",
        "if os.path.exists(\"mismip-degree1.h5\"):\n",
        "    with firedrake.CheckpointFile(\"mismip-degree1.h5\", \"r\") as chk:\n",
        "        mesh = chk.load_mesh(name=\"mesh\")\n",
        "\n",
        "        h_1 = chk.load_function(mesh, name=\"thickness\")\n",
        "        s_1 = chk.load_function(mesh, name=\"surface\")\n",
        "        u_1 = chk.load_function(mesh, name=\"velocity\")\n",
        "        \n",
        "        Q1 = h_1.function_space()\n",
        "        V1 = u_1.function_space()\n",
        "else:\n",
        "    mesh = firedrake.RectangleMesh(nx, ny, Lx, Ly, name=\"mesh\")\n",
        "    Q1 = firedrake.FunctionSpace(mesh, \"CG\", 1)\n",
        "    V1 = firedrake.VectorFunctionSpace(mesh, \"CG\", 1)\n",
        "\n",
        "    z_b = interpolate(mismip_bed(mesh), Q1)\n",
        "    h_0 = interpolate(Constant(100), Q1)\n",
        "    s_0 = icepack.compute_surface(thickness=h_0, bed=z_b)\n",
        "\n",
        "    flow_solver = icepack.solvers.FlowSolver(model, **opts)\n",
        "    x = firedrake.SpatialCoordinate(mesh)[0]\n",
        "    u_0 = flow_solver.diagnostic_solve(\n",
        "        velocity=interpolate(as_vector((90 * x / Lx, 0)), V1),\n",
        "        thickness=h_0,\n",
        "        surface=s_0,\n",
        "        fluidity=A,\n",
        "        friction=C,\n",
        "    )\n",
        "\n",
        "    dt = 5.0\n",
        "    final_time = 3600\n",
        "\n",
        "    h_1, s_1, u_1 = run_simulation(\n",
        "        flow_solver, h_0, s_0, u_0, z_b, final_time, dt\n",
        "    )\n",
        "\n",
        "    with firedrake.CheckpointFile(\"mismip-degree1.h5\", \"w\") as chk:\n",
        "        chk.save_mesh(mesh)\n",
        "        chk.save_function(h_1, name=\"thickness\")\n",
        "        chk.save_function(s_1, name=\"surface\")\n",
        "        chk.save_function(u_1, name=\"velocity\")"
      ]
    },
    {
      "cell_type": "markdown",
      "metadata": {},
      "source": [
        "Load in the steady state computed with degree-2 elements from a file if it exists, or spin it up from the degree-1 solution if not."
      ]
    },
    {
      "cell_type": "code",
      "execution_count": 10,
      "metadata": {
        "execution": {
          "iopub.execute_input": "2022-09-30T19:35:03.672513Z",
          "iopub.status.busy": "2022-09-30T19:35:03.671844Z",
          "iopub.status.idle": "2022-09-30T19:52:50.930918Z",
          "shell.execute_reply": "2022-09-30T19:52:50.929120Z"
        }
      },
      "outputs": [
        {
          "name": "stderr",
          "output_type": "stream",
          "text": [
            "100%|██████████| 900/900 [17:45<00:00,  1.18s/it]\n"
          ]
        }
      ],
      "source": [
        "flow_solver = icepack.solvers.FlowSolver(model, **opts)\n",
        "\n",
        "if os.path.exists(\"mismip-degree2.h5\"):\n",
        "    with firedrake.CheckpointFile(\"mismip-degree2.h5\", \"r\") as chk:\n",
        "        mesh = chk.load_mesh(name=\"mesh\")\n",
        "        h = chk.load_function(mesh, name=\"thickness\")\n",
        "        s = chk.load_function(mesh, name=\"surface\")\n",
        "        u = chk.load_function(mesh, name=\"velocity\")\n",
        "        \n",
        "        Q2 = h.function_space()\n",
        "        V2 = u.function_space()\n",
        "else:\n",
        "    Q2 = firedrake.FunctionSpace(mesh, \"CG\", 2)\n",
        "    V2 = firedrake.VectorFunctionSpace(mesh, \"CG\", 2)\n",
        "\n",
        "    h = interpolate(h_1, Q2)\n",
        "    s = interpolate(s_1, Q2)\n",
        "    u = interpolate(u_1, V2)\n",
        "\n",
        "    final_time = 3600\n",
        "    dt = 4.0\n",
        "\n",
        "    h, s, u = run_simulation(\n",
        "        flow_solver, h, s, u, z_b, final_time, dt\n",
        "    )\n",
        "\n",
        "    with firedrake.CheckpointFile(\"mismip-degree2.h5\", \"w\") as chk:\n",
        "        chk.save_mesh(mesh)\n",
        "        chk.save_function(h, name=\"thickness\")\n",
        "        chk.save_function(s, name=\"surface\")\n",
        "        chk.save_function(u, name=\"velocity\")\n",
        "        \n",
        "z_b = interpolate(mismip_bed(mesh), Q2)"
      ]
    },
    {
      "cell_type": "markdown",
      "metadata": {},
      "source": [
        "### Simulation\n",
        "\n",
        "For the inversion scenario, we'd like to make the system do something a little more interesting than just relax to steady state.\n",
        "To achieve that, we'll add a 1-year periodic oscillation to the accumulation rate.\n",
        "The only change in the core simulation loop is that now we're interpolating a new value to the accumulation rate at every step.\n",
        "Additionally, we're keeping the full time history of the system state in a list instead of just storing the final state."
      ]
    },
    {
      "cell_type": "code",
      "execution_count": 11,
      "metadata": {
        "execution": {
          "iopub.execute_input": "2022-09-30T19:52:50.940656Z",
          "iopub.status.busy": "2022-09-30T19:52:50.940361Z",
          "iopub.status.idle": "2022-09-30T20:00:49.124280Z",
          "shell.execute_reply": "2022-09-30T20:00:49.122313Z"
        }
      },
      "outputs": [
        {
          "name": "stderr",
          "output_type": "stream",
          "text": [
            "100%|██████████| 600/600 [07:58<00:00,  1.25it/s]\n"
          ]
        }
      ],
      "source": [
        "import numpy as np\n",
        "from numpy import pi as π\n",
        "\n",
        "final_time = 25.0\n",
        "dt = 1.0 / 24\n",
        "\n",
        "hs = [h.copy(deepcopy=True)]\n",
        "ss = [s.copy(deepcopy=True)]\n",
        "us = [u.copy(deepcopy=True)]\n",
        "\n",
        "h_in = Constant(100.0)\n",
        "a = firedrake.Function(Q2)\n",
        "δa = Constant(0.2)\n",
        "\n",
        "num_steps = int(final_time / dt)\n",
        "for step in tqdm.trange(num_steps):\n",
        "    t = step * dt\n",
        "    a.interpolate(a_0 + δa * firedrake.sin(2 * π * t))\n",
        "    \n",
        "    h = flow_solver.prognostic_solve(\n",
        "        dt,\n",
        "        thickness=h,\n",
        "        velocity=u,\n",
        "        accumulation=a,\n",
        "        thickness_inflow=h_in,\n",
        "    )\n",
        "    s = icepack.compute_surface(thickness=h, bed=z_b)\n",
        "\n",
        "    u = flow_solver.diagnostic_solve(\n",
        "        velocity=u,\n",
        "        thickness=h,\n",
        "        surface=s,\n",
        "        fluidity=A,\n",
        "        friction=C,\n",
        "    )\n",
        "\n",
        "    hs.append(h.copy(deepcopy=True))\n",
        "    ss.append(s.copy(deepcopy=True))\n",
        "    us.append(u.copy(deepcopy=True))"
      ]
    },
    {
      "cell_type": "markdown",
      "metadata": {},
      "source": [
        "The plot below shows the average thickness of the glacier over time.\n",
        "By the end of the interval the system has migrated towards a reasonably stable limit cycle."
      ]
    },
    {
      "cell_type": "code",
      "execution_count": 12,
      "metadata": {
        "execution": {
          "iopub.execute_input": "2022-09-30T20:00:49.132785Z",
          "iopub.status.busy": "2022-09-30T20:00:49.132330Z",
          "iopub.status.idle": "2022-09-30T20:00:50.182137Z",
          "shell.execute_reply": "2022-09-30T20:00:50.180663Z"
        }
      },
      "outputs": [
        {
          "data": {
            "image/png": "[encoded data removed]",
            "text/plain": [
              "<Figure size 432x288 with 1 Axes>"
            ]
          },
          "metadata": {
            "needs_background": "light"
          },
          "output_type": "display_data"
        }
      ],
      "source": [
        "import matplotlib.pyplot as plt\n",
        "\n",
        "average_thicknesses = np.array([firedrake.assemble(h * dx) / (Lx * Ly) for h in hs])\n",
        "times = np.linspace(0, final_time, num_steps + 1)\n",
        "\n",
        "fig, ax = plt.subplots()\n",
        "ax.set_xlabel(\"time (years)\")\n",
        "ax.set_ylabel(\"average thickness (meters)\")\n",
        "ax.plot(times, average_thicknesses);"
      ]
    },
    {
      "cell_type": "markdown",
      "metadata": {},
      "source": [
        "### Hindcasting\n",
        "\n",
        "We're now going to see if we can recover the state of the system at time $t = 23.5$ from knowledge of the system state at time $t = 25$.\n",
        "The biggest departure in this notebook from the previous demonstration of statistical estimation problems is that now our simulation includes a full loop over all timesteps, rather than a single diagnostic solve.\n",
        "The simulation has to take in the controls (the unknown initial thickness) and return the observables (the final thickness).\n",
        "There are a few extra variables, like the start and end times and the mean and fluctuations of the accumulation rate, that come in implicitly but aren't actual function arguments."
      ]
    },
    {
      "cell_type": "code",
      "execution_count": 13,
      "metadata": {
        "execution": {
          "iopub.execute_input": "2022-09-30T20:00:50.189135Z",
          "iopub.status.busy": "2022-09-30T20:00:50.188441Z",
          "iopub.status.idle": "2022-09-30T20:00:50.202351Z",
          "shell.execute_reply": "2022-09-30T20:00:50.201074Z"
        }
      },
      "outputs": [],
      "source": [
        "start_time = 23.5\n",
        "final_time = 25.0\n",
        "\n",
        "def simulation(h_initial):\n",
        "    a = firedrake.Function(Q2)\n",
        "    h = h_initial.copy(deepcopy=True)\n",
        "    s = icepack.compute_surface(thickness=h, bed=z_b)\n",
        "    u = flow_solver.diagnostic_solve(\n",
        "        velocity=us[-1].copy(deepcopy=True),\n",
        "        thickness=h,\n",
        "        surface=s,\n",
        "        fluidity=A,\n",
        "        friction=C,\n",
        "    )\n",
        "    t = Constant(start_time)\n",
        "\n",
        "    num_steps = int((final_time - start_time) / dt)\n",
        "    for step in tqdm.trange(num_steps):\n",
        "        t = Constant(t + dt)\n",
        "        a.interpolate(a_0 + δa * firedrake.sin(2 * π * t))\n",
        "\n",
        "        h = flow_solver.prognostic_solve(\n",
        "            dt,\n",
        "            thickness=h,\n",
        "            velocity=u,\n",
        "            accumulation=a,\n",
        "            thickness_inflow=h_in,\n",
        "        )\n",
        "        s = icepack.compute_surface(thickness=h, bed=z_b)\n",
        "\n",
        "        u = flow_solver.diagnostic_solve(\n",
        "            velocity=u,\n",
        "            thickness=h,\n",
        "            surface=s,\n",
        "            fluidity=A,\n",
        "            friction=C,\n",
        "        )\n",
        "\n",
        "    return h"
      ]
    },
    {
      "cell_type": "markdown",
      "metadata": {},
      "source": [
        "The loss functional calculates how well the final thickness and velocity from the simulation matches that from the actual time series."
      ]
    },
    {
      "cell_type": "code",
      "execution_count": 14,
      "metadata": {
        "execution": {
          "iopub.execute_input": "2022-09-30T20:00:50.207237Z",
          "iopub.status.busy": "2022-09-30T20:00:50.206676Z",
          "iopub.status.idle": "2022-09-30T20:00:50.213188Z",
          "shell.execute_reply": "2022-09-30T20:00:50.211994Z"
        }
      },
      "outputs": [],
      "source": [
        "def loss_functional(h_final):\n",
        "    σ_h = Constant(1.0)\n",
        "    return 0.5 / area * ((h_final - hs[-1]) / σ_h)**2 * dx"
      ]
    },
    {
      "cell_type": "markdown",
      "metadata": {},
      "source": [
        "In the previous demonstration of inverse methods, we used a prior that favored a smooth value of the fluidity:\n",
        "\n",
        "$$R(\\theta) = \\frac{\\alpha^2}{2}\\int_\\Omega|\\nabla\\theta|^2dx.$$\n",
        "\n",
        "Here we have a little more knowledge; while the initial state might depart somewhat from the final state, we expect the difference between the two to be fairly smooth.\n",
        "So we'll instead use the prior\n",
        "\n",
        "$$R(h(t_0)) = \\frac{\\alpha^2}{2}\\int_\\Omega|\\nabla(h(t_1) - h(t_0))|^2dx.$$"
      ]
    },
    {
      "cell_type": "code",
      "execution_count": 15,
      "metadata": {
        "execution": {
          "iopub.execute_input": "2022-09-30T20:00:50.218983Z",
          "iopub.status.busy": "2022-09-30T20:00:50.218422Z",
          "iopub.status.idle": "2022-09-30T20:00:50.227409Z",
          "shell.execute_reply": "2022-09-30T20:00:50.226087Z"
        }
      },
      "outputs": [],
      "source": [
        "def regularization(h_initial):\n",
        "    α = Constant(0.0)\n",
        "    δh = h_initial - hs[-1]\n",
        "    return 0.5 * α**2 / area * inner(grad(δh), grad(δh)) * dx"
      ]
    },
    {
      "cell_type": "markdown",
      "metadata": {},
      "source": [
        "As our starting guess for the initial thickness, we'll assume that it's equal to the final thickness."
      ]
    },
    {
      "cell_type": "code",
      "execution_count": 16,
      "metadata": {
        "execution": {
          "iopub.execute_input": "2022-09-30T20:00:50.232722Z",
          "iopub.status.busy": "2022-09-30T20:00:50.232332Z",
          "iopub.status.idle": "2022-09-30T20:00:50.239397Z",
          "shell.execute_reply": "2022-09-30T20:00:50.237975Z"
        }
      },
      "outputs": [],
      "source": [
        "h_initial = hs[-1].copy(deepcopy=True)"
      ]
    },
    {
      "cell_type": "markdown",
      "metadata": {},
      "source": [
        "We've added a few extra options to pass to the optimizer in order to guarantee convergence to the right solution."
      ]
    },
    {
      "cell_type": "code",
      "execution_count": 17,
      "metadata": {
        "execution": {
          "iopub.execute_input": "2022-09-30T20:00:50.244922Z",
          "iopub.status.busy": "2022-09-30T20:00:50.244361Z",
          "iopub.status.idle": "2022-09-30T20:01:11.814170Z",
          "shell.execute_reply": "2022-09-30T20:01:11.812176Z"
        }
      },
      "outputs": [
        {
          "name": "stderr",
          "output_type": "stream",
          "text": [
            "100%|██████████| 36/36 [00:20<00:00,  1.73it/s]\n"
          ]
        }
      ],
      "source": [
        "from icepack.statistics import (\n",
        "    StatisticsProblem,\n",
        "    MaximumProbabilityEstimator,\n",
        ")\n",
        "\n",
        "stats_problem = StatisticsProblem(\n",
        "    simulation=simulation,\n",
        "    loss_functional=loss_functional,\n",
        "    regularization=regularization,\n",
        "    controls=h_initial,\n",
        ")\n",
        "\n",
        "estimator = MaximumProbabilityEstimator(\n",
        "    stats_problem,\n",
        "    algorithm=\"bfgs\",\n",
        "    memory=10,\n",
        "    gradient_tolerance=1e-12,\n",
        "    step_tolerance=5e-14,\n",
        ")"
      ]
    },
    {
      "cell_type": "code",
      "execution_count": 18,
      "metadata": {
        "execution": {
          "iopub.execute_input": "2022-09-30T20:01:11.821128Z",
          "iopub.status.busy": "2022-09-30T20:01:11.820654Z",
          "iopub.status.idle": "2022-09-30T21:05:20.787606Z",
          "shell.execute_reply": "2022-09-30T21:05:20.786155Z"
        }
      },
      "outputs": [
        {
          "name": "stdout",
          "output_type": "stream",
          "text": [
            "\n",
            "Quasi-Newton Method with Limited-Memory BFGS\n",
            "Line Search: Cubic Interpolation satisfying Strong Wolfe Conditions\n",
            "  iter  value          gnorm          snorm          #fval     #grad     ls_#fval  ls_#grad  \n",
            "  0     1.024462e-02   8.614877e-07   \n",
            "  1     1.024462e-02   8.614877e-07   8.614877e-07   2         2         1         0         \n",
            "  2     3.050663e-03   3.876803e-07   1.477479e+04   3         3         1         0         \n",
            "  3     1.130898e-03   3.054103e-07   8.520600e+03   4         4         1         0         \n",
            "  4     1.275521e-04   9.164443e-08   1.001678e+04   5         5         1         0         \n",
            "  5     6.827371e-05   5.346385e-08   1.953368e+03   6         6         1         0         \n",
            "  6     5.096586e-05   2.016236e-08   5.881060e+02   7         7         1         0         \n",
            "  7     4.483167e-05   1.715701e-08   3.739321e+02   8         8         1         0         \n",
            "  8     3.257588e-05   1.768648e-08   1.281218e+03   9         9         1         0         \n",
            "  9     2.471696e-05   1.543098e-08   1.070443e+03   10        10        1         0         \n",
            "  10    1.944347e-05   2.722804e-08   2.562058e+03   11        11        1         0         \n",
            "  11    1.185223e-05   9.961294e-09   6.395475e+02   12        12        1         0         \n",
            "  12    9.539326e-06   9.068673e-09   3.687525e+02   13        13        1         0         \n",
            "  13    4.151828e-06   8.609152e-09   1.623611e+03   14        14        1         0         \n",
            "  14    3.124914e-06   8.017546e-09   4.793673e+02   16        15        2         0         \n",
            "  15    2.077726e-06   5.068789e-09   6.121509e+02   17        16        1         0         \n",
            "  16    1.302139e-06   4.229767e-09   3.768834e+02   18        17        1         0         \n",
            "  17    7.108775e-07   3.828434e-09   4.472465e+02   19        18        1         0         \n",
            "  18    3.722639e-07   2.032368e-09   2.223172e+02   20        19        1         0         \n",
            "  19    2.319656e-07   1.617590e-09   1.702566e+02   21        20        1         0         \n",
            "  20    1.850211e-07   2.314256e-09   1.510996e+02   22        21        1         0         \n",
            "  21    1.326688e-07   9.215288e-10   4.438243e+01   23        22        1         0         \n",
            "  22    1.081323e-07   8.618942e-10   4.509865e+01   24        23        1         0         \n",
            "  23    8.280087e-08   9.161295e-10   6.795823e+01   25        24        1         0         \n",
            "  24    4.885079e-08   1.331764e-09   1.395148e+02   26        25        1         0         \n",
            "  25    3.799772e-08   1.478972e-09   1.389808e+02   27        26        1         0         \n",
            "  26    2.039635e-08   4.577807e-10   3.754305e+01   28        27        1         0         \n",
            "  27    1.601783e-08   3.943554e-10   1.506850e+01   29        28        1         0         \n",
            "  28    8.401493e-09   4.683924e-10   4.916966e+01   30        29        1         0         \n",
            "  29    8.207727e-09   8.570104e-10   5.028421e+01   31        30        1         0         \n",
            "  30    3.260358e-09   1.816703e-10   1.532770e+01   32        31        1         0         \n",
            "  31    2.679237e-09   1.243535e-10   6.330617e+00   33        32        1         0         \n",
            "  32    1.853156e-09   1.083308e-10   1.316644e+01   34        33        1         0         \n",
            "  33    1.113063e-09   1.032294e-10   1.453573e+01   35        34        1         0         \n",
            "  34    8.774650e-10   1.218312e-10   8.322373e+00   37        35        2         0         \n",
            "  35    5.899032e-10   6.254399e-11   8.786927e+00   38        36        1         0         \n",
            "  36    4.160994e-10   5.160053e-11   6.051526e+00   39        37        1         0         \n",
            "  37    3.146363e-10   1.053413e-10   1.081652e+01   40        38        1         0         \n",
            "  38    2.158471e-10   4.514252e-11   2.674159e+00   41        39        1         0         \n",
            "  39    1.874733e-10   2.806482e-11   1.515896e+00   42        40        1         0         \n",
            "  40    1.575527e-10   2.470438e-11   2.182069e+00   43        41        1         0         \n",
            "  41    1.126763e-10   4.910716e-11   4.982603e+00   44        42        1         0         \n",
            "  42    8.396116e-11   3.857251e-11   5.274273e+00   45        43        1         0         \n",
            "  43    6.346224e-11   1.991187e-11   1.239854e+00   46        44        1         0         \n",
            "  44    4.736418e-11   1.738012e-11   1.694782e+00   47        45        1         0         \n",
            "  45    2.841020e-11   1.673462e-11   2.719945e+00   48        46        1         0         \n",
            "  46    1.545631e-11   2.123827e-11   3.783580e+00   49        47        1         0         \n",
            "  47    9.618797e-12   1.339338e-11   2.177766e+00   50        48        1         0         \n",
            "  48    6.771761e-12   5.968673e-12   6.856161e-01   51        49        1         0         \n",
            "  49    5.523853e-12   5.319361e-12   3.974298e-01   52        50        1         0         \n",
            "  50    3.833964e-12   7.674163e-12   8.624951e-01   53        51        1         0         \n",
            "Optimization Terminated with Status: Iteration Limit Exceeded\n"
          ]
        }
      ],
      "source": [
        "h_min = estimator.solve()"
      ]
    },
    {
      "cell_type": "markdown",
      "metadata": {},
      "source": [
        "The minimizer is appreciably different from the thickness at $t = 25.0$ and very to the value at $t = 23.5$, so the algorithm has reproduced the initial condition that we pretended not to know."
      ]
    },
    {
      "cell_type": "code",
      "execution_count": 19,
      "metadata": {
        "execution": {
          "iopub.execute_input": "2022-09-30T21:05:20.794588Z",
          "iopub.status.busy": "2022-09-30T21:05:20.794293Z",
          "iopub.status.idle": "2022-09-30T21:05:21.053190Z",
          "shell.execute_reply": "2022-09-30T21:05:21.052184Z"
        }
      },
      "outputs": [
        {
          "name": "stdout",
          "output_type": "stream",
          "text": [
            "|h_min - h(25.0)|: 32164.43123901769\n",
            "|h_min - h(23.5)|: 36.51652925878706\n"
          ]
        }
      ],
      "source": [
        "δh_end = h_min - hs[-1]\n",
        "print(f\"|h_min - h(25.0)|: {firedrake.norm(δh_end)}\")\n",
        "num_steps = int((final_time - start_time) / dt)\n",
        "δh_start = h_min - hs[-1 - num_steps]\n",
        "print(f\"|h_min - h(23.5)|: {firedrake.norm(δh_start)}\")"
      ]
    },
    {
      "cell_type": "code",
      "execution_count": 20,
      "metadata": {
        "execution": {
          "iopub.execute_input": "2022-09-30T21:05:21.059198Z",
          "iopub.status.busy": "2022-09-30T21:05:21.058787Z",
          "iopub.status.idle": "2022-09-30T21:05:21.732691Z",
          "shell.execute_reply": "2022-09-30T21:05:21.731402Z"
        }
      },
      "outputs": [
        {
          "data": {
            "image/png": "[encoded data removed]",
            "text/plain": [
              "<Figure size 432x288 with 2 Axes>"
            ]
          },
          "metadata": {
            "needs_background": "light"
          },
          "output_type": "display_data"
        }
      ],
      "source": [
        "import icepack.plot\n",
        "\n",
        "δh = interpolate(h_min - hs[-1 - num_steps], Q2)\n",
        "fig, axes = icepack.plot.subplots()\n",
        "axes.set_title(\"Estimated - True thickness\")\n",
        "colors = firedrake.tripcolor(\n",
        "    δh, vmin=-0.002, vmax=+0.002, cmap=\"RdBu\", axes=axes\n",
        ")\n",
        "fig.colorbar(colors, fraction=0.01, pad=0.046);"
      ]
    },
    {
      "cell_type": "markdown",
      "metadata": {},
      "source": [
        "### Conclusion\n",
        "\n",
        "In previous demos, we've shown how use measurements of observable fields, like ice velocity and thickness, to estimate unknown parameters that satisfy constraints from a physics model.\n",
        "The physics model was fairly rudimentary before -- taking in a single field like the ice fluidity and returning the ice velocity as computed from the momentum conservation equation.\n",
        "Here we showed how to use much more complex simulations involving a full timestepping loop.\n",
        "Instead of estimating an unobservable parameter of the system, like the fluidity or friction coefficient, we instead showed how to estimate the thickness at a different time from when it was observed.\n",
        "\n",
        "Solving these kinds of problems is more computationally expensive and finding better or faster algorithms is an active area of research.\n",
        "While costly, the capability does open up many more possible research directions and improvements on existing practice.\n",
        "For example, when estimating the ice fluidity or friction, it's common to assume that the thickness and velocity measurements were taken at the same time.\n",
        "This assumption is almost never exactly true.\n",
        "The ability to do time-dependent data assimilation means that we can dispense with it."
      ]
    }
  ],
  "metadata": {
    "kernelspec": {
      "display_name": "firedrake",
      "language": "python",
      "name": "firedrake"
    },
    "language_info": {
      "codemirror_mode": {
        "name": "ipython",
        "version": 3
      },
      "file_extension": ".py",
      "mimetype": "text/x-python",
      "name": "python",
      "nbconvert_exporter": "python",
      "pygments_lexer": "ipython3",
      "version": "3.8.10"
    },
    "nikola": {
      "category": "",
      "date": "2022-09-30 14:05:25 UTC-07:00",
      "description": "",
      "link": "",
      "slug": "05-time-dependent-inverse",
      "tags": "",
      "title": "Time-dependent data assimilation",
      "type": "text",
      "hidetitle": "True"
    }
  },
  "nbformat": 4,
  "nbformat_minor": 2
}
